{
 "cells": [
  {
   "cell_type": "markdown",
   "id": "09dad834",
   "metadata": {},
   "source": [
    "# ¿A Donde se fue mi entrada?\n",
    "ya hemos usado la entrada estandar para algunas cosas, ahora, que les parece perderla"
   ]
  },
  {
   "cell_type": "code",
   "execution_count": 1,
   "id": "06b4d2c9",
   "metadata": {},
   "outputs": [
    {
     "name": "stdout",
     "output_type": "stream",
     "text": [
      "server1.mydomain.com\n",
      "server2.mydomain.com\n",
      "server3.mydomain.com\n"
     ]
    }
   ],
   "source": [
    "cat servers.txt"
   ]
  },
  {
   "cell_type": "code",
   "execution_count": 5,
   "id": "9e7822e9",
   "metadata": {},
   "outputs": [
    {
     "name": "stdout",
     "output_type": "stream",
     "text": [
      "ssh -q server1.mydomain.com hostname\n",
      "server2.mydomain.com\n",
      "server3.mydomain.com\n"
     ]
    }
   ],
   "source": [
    "while read HOST ; do echo \"ssh -q $HOST hostname\"; cat; done < servers.txt "
   ]
  },
  {
   "cell_type": "markdown",
   "id": "47483aee",
   "metadata": {},
   "source": [
    "tenemos una lista de servidores, he intentamos conectarnos a todos via un loop while\n",
    "algo asi:\n",
    "while read HOST ; do ssh -q \"$HOST\" \"hostname\"; done < servers.txt\n",
    "\n",
    "pero como ssh, cat lee \"lo que este en la entrada estandar\" que en este caso es lo que esta leyendo el \"read\" del while\n",
    "\n",
    "podemos prevenirlo mas o menos asi:\n",
    "ssh $USER@$SERVER \"hostname\" < /dev/null"
   ]
  },
  {
   "cell_type": "code",
   "execution_count": 4,
   "id": "03797069",
   "metadata": {},
   "outputs": [
    {
     "name": "stdout",
     "output_type": "stream",
     "text": [
      "ssh -q server1.mydomain.com\n",
      "ssh -q server2.mydomain.com\n",
      "ssh -q server3.mydomain.com\n"
     ]
    }
   ],
   "source": [
    "while read HOST ; do echo \"ssh -q $HOST\"; cat< /dev/null; done < servers.txt"
   ]
  },
  {
   "cell_type": "markdown",
   "id": "faa5040a",
   "metadata": {},
   "source": [
    "o cambiemos el descriptor"
   ]
  },
  {
   "cell_type": "code",
   "execution_count": 6,
   "id": "4265a413",
   "metadata": {},
   "outputs": [
    {
     "name": "stdout",
     "output_type": "stream",
     "text": [
      "ssh -q server1.mydomain.com\n",
      "\n"
     ]
    }
   ],
   "source": [
    "while read -u5 HOST ; do echo \"ssh -q $HOST\"; cat;done 5< servers.txt"
   ]
  },
  {
   "cell_type": "code",
   "execution_count": null,
   "id": "c32534b1",
   "metadata": {},
   "outputs": [],
   "source": []
  }
 ],
 "metadata": {
  "kernelspec": {
   "display_name": "Bash",
   "language": "bash",
   "name": "bash"
  },
  "language_info": {
   "codemirror_mode": "shell",
   "file_extension": ".sh",
   "mimetype": "text/x-sh",
   "name": "bash"
  }
 },
 "nbformat": 4,
 "nbformat_minor": 5
}
