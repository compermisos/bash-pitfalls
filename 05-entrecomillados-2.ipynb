{
 "cells": [
  {
   "cell_type": "markdown",
   "id": "a8613cc3",
   "metadata": {},
   "source": [
    "# entrecomillado 2.0\n",
    "El entrecomillado es un problema recurrente"
   ]
  },
  {
   "cell_type": "code",
   "execution_count": 1,
   "id": "70860620",
   "metadata": {},
   "outputs": [
    {
     "name": "stdout",
     "output_type": "stream",
     "text": [
      "#!/bin/env bash\n",
      "EMAILLIST=\"file@example.net facturas@example.net *@example.net cuentaGrande@example.net\"\n",
      "mkdir \"test\"\n",
      "# shellcheck disable=SC2164\n",
      "cd \"test\"\n",
      "for mail in $EMAILLIST; do\n",
      "  echo \"debe pagar 25\" > $mail\n",
      "done\n",
      "for mail in $EMAILLIST; do\n",
      "  echo cobrandole a $mail\n",
      "  cat $mail\n",
      "  rm $mail\n",
      "done\n",
      "rm -rf \"test/\"\n"
     ]
    }
   ],
   "source": [
    "cat sources/bash/emailTimer.sh"
   ]
  },
  {
   "cell_type": "markdown",
   "id": "d8ba2280",
   "metadata": {},
   "source": [
    "¿Que queremos?\n",
    "crear un archivo para cada correo, ponerle \"una tarifa\" y cobrarla"
   ]
  },
  {
   "cell_type": "code",
   "execution_count": 1,
   "id": "6b2d8790",
   "metadata": {},
   "outputs": [
    {
     "name": "stdout",
     "output_type": "stream",
     "text": [
      "mkdir: cannot create directory ‘test’: File exists\n",
      "sources/bash/emailTimer.sh: line 7: $mail: ambiguous redirect\n",
      "cobrandole a file@example.net\n",
      "debe pagar 25\n",
      "cobrandole a facturas@example.net\n",
      "debe pagar 25\n",
      "cobrandole a cuentaGrande@example.net\n",
      "debe pagar 25\n",
      "cobrandole a facturas@example.net\n",
      "cat: facturas@example.net: No such file or directory\n",
      "rm: cannot remove 'facturas@example.net': No such file or directory\n",
      "cobrandole a file@example.net\n",
      "cat: file@example.net: No such file or directory\n",
      "rm: cannot remove 'file@example.net': No such file or directory\n",
      "cobrandole a cuentaGrande@example.net\n",
      "cat: cuentaGrande@example.net: No such file or directory\n",
      "rm: cannot remove 'cuentaGrande@example.net': No such file or directory\n"
     ]
    }
   ],
   "source": [
    "bash sources/bash/emailTimer.sh"
   ]
  },
  {
   "cell_type": "markdown",
   "id": "a4ba04ee",
   "metadata": {},
   "source": [
    "¿Que paso?\n"
   ]
  },
  {
   "cell_type": "code",
   "execution_count": 2,
   "id": "304d01ef",
   "metadata": {},
   "outputs": [
    {
     "name": "stdout",
     "output_type": "stream",
     "text": [
      "+ EMAILLIST='file@example.net facturas@example.net *@example.net cuentaGrande@example.net'\n",
      "+ mkdir test\n",
      "mkdir: cannot create directory ‘test’: File exists\n",
      "+ cd test\n",
      "+ for mail in $EMAILLIST\n",
      "+ echo 'debe pagar 25'\n",
      "+ for mail in $EMAILLIST\n",
      "+ echo 'debe pagar 25'\n",
      "+ for mail in $EMAILLIST\n",
      "+ echo 'debe pagar 25'\n",
      "sources/bash/emailTimer.sh: line 7: $mail: ambiguous redirect\n",
      "+ for mail in $EMAILLIST\n",
      "+ echo 'debe pagar 25'\n",
      "+ for mail in $EMAILLIST\n",
      "+ echo cobrandole a file@example.net\n",
      "cobrandole a file@example.net\n",
      "+ cat file@example.net\n",
      "debe pagar 25\n",
      "+ rm file@example.net\n",
      "+ for mail in $EMAILLIST\n",
      "+ echo cobrandole a facturas@example.net\n",
      "cobrandole a facturas@example.net\n",
      "+ cat facturas@example.net\n",
      "debe pagar 25\n",
      "+ rm facturas@example.net\n",
      "+ for mail in $EMAILLIST\n",
      "+ echo cobrandole a cuentaGrande@example.net\n",
      "cobrandole a cuentaGrande@example.net\n",
      "+ cat cuentaGrande@example.net\n",
      "debe pagar 25\n",
      "+ rm cuentaGrande@example.net\n",
      "+ for mail in $EMAILLIST\n",
      "+ echo cobrandole a facturas@example.net\n",
      "cobrandole a facturas@example.net\n",
      "+ cat facturas@example.net\n",
      "cat: facturas@example.net: No such file or directory\n",
      "+ rm facturas@example.net\n",
      "rm: cannot remove 'facturas@example.net': No such file or directory\n",
      "+ for mail in $EMAILLIST\n",
      "+ echo cobrandole a file@example.net\n",
      "cobrandole a file@example.net\n",
      "+ cat file@example.net\n",
      "cat: file@example.net: No such file or directory\n",
      "+ rm file@example.net\n",
      "rm: cannot remove 'file@example.net': No such file or directory\n",
      "+ for mail in $EMAILLIST\n",
      "+ echo cobrandole a cuentaGrande@example.net\n",
      "cobrandole a cuentaGrande@example.net\n",
      "+ cat cuentaGrande@example.net\n",
      "cat: cuentaGrande@example.net: No such file or directory\n",
      "+ rm cuentaGrande@example.net\n",
      "rm: cannot remove 'cuentaGrande@example.net': No such file or directory\n",
      "+ rm -rf test/\n"
     ]
    }
   ],
   "source": [
    "bash -x sources/bash/emailTimer.sh"
   ]
  },
  {
   "cell_type": "markdown",
   "id": "890e06a0",
   "metadata": {},
   "source": [
    "¿Nos lo pueden explicar?\n"
   ]
  },
  {
   "cell_type": "code",
   "execution_count": 3,
   "id": "e3c53b96",
   "metadata": {},
   "outputs": [
    {
     "name": "stdout",
     "output_type": "stream",
     "text": [
      "\n",
      "\u001b[1mIn sources/bash/emailTimer.sh line 7:\u001b[0m\n",
      "\u001b[0m  echo \"debe pagar 25\" > $mail\u001b[0m\n",
      "\u001b[32m                         ^-- SC2086: Double quote to prevent globbing and word splitting.\u001b[0m\n",
      "\n",
      "\n",
      "\u001b[1mIn sources/bash/emailTimer.sh line 10:\u001b[0m\n",
      "\u001b[0m  echo cobrandole a $mail\u001b[0m\n",
      "\u001b[32m                    ^-- SC2086: Double quote to prevent globbing and word splitting.\u001b[0m\n",
      "\n",
      "\n",
      "\u001b[1mIn sources/bash/emailTimer.sh line 11:\u001b[0m\n",
      "\u001b[0m  cat $mail\u001b[0m\n",
      "\u001b[32m      ^-- SC2086: Double quote to prevent globbing and word splitting.\u001b[0m\n",
      "\n",
      "\n",
      "\u001b[1mIn sources/bash/emailTimer.sh line 12:\u001b[0m\n",
      "\u001b[0m  rm $mail\u001b[0m\n",
      "\u001b[32m     ^-- SC2086: Double quote to prevent globbing and word splitting.\u001b[0m\n",
      "\n"
     ]
    },
    {
     "ename": "",
     "evalue": "1",
     "output_type": "error",
     "traceback": []
    }
   ],
   "source": [
    "shellcheck sources/bash/emailTimer.sh"
   ]
  },
  {
   "cell_type": "code",
   "execution_count": null,
   "id": "3c312903",
   "metadata": {},
   "outputs": [],
   "source": []
  }
 ],
 "metadata": {
  "kernelspec": {
   "display_name": "Bash",
   "language": "bash",
   "name": "bash"
  },
  "language_info": {
   "codemirror_mode": "shell",
   "file_extension": ".sh",
   "mimetype": "text/x-sh",
   "name": "bash"
  }
 },
 "nbformat": 4,
 "nbformat_minor": 5
}
