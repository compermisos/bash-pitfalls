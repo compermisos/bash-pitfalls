{
 "cells": [
  {
   "cell_type": "markdown",
   "id": "fdb576d3",
   "metadata": {},
   "source": [
    "# Transformando Cadenas\n",
    "ocuparemos tr para hacer mal las cosas\n",
    "\n",
    "Vamos con este simple script"
   ]
  },
  {
   "cell_type": "code",
   "execution_count": 1,
   "id": "c6722db3",
   "metadata": {},
   "outputs": [
    {
     "name": "stdout",
     "output_type": "stream",
     "text": [
      "#!/bin/env bash\n",
      "echo $1| tr 'a-z' 'A-Z' \n"
     ]
    }
   ],
   "source": [
    "cat sources/bash/badTR1.sh"
   ]
  },
  {
   "cell_type": "code",
   "execution_count": 2,
   "id": "445abbc6",
   "metadata": {},
   "outputs": [
    {
     "name": "stdout",
     "output_type": "stream",
     "text": [
      "HOLA MUNDO\n"
     ]
    }
   ],
   "source": [
    "bash sources/bash/badTR1.sh \"hola mundo\""
   ]
  },
  {
   "cell_type": "code",
   "execution_count": 3,
   "id": "4382da59",
   "metadata": {},
   "outputs": [
    {
     "name": "stdout",
     "output_type": "stream",
     "text": [
      "HELADO DE PIñA\n"
     ]
    }
   ],
   "source": [
    "bash sources/bash/badTR1.sh \"Helado de piña\""
   ]
  },
  {
   "cell_type": "code",
   "execution_count": 5,
   "id": "82c42be4",
   "metadata": {},
   "outputs": [
    {
     "name": "stdout",
     "output_type": "stream",
     "text": [
      "\n",
      "\u001b[1mIn sources/bash/badTR1.sh line 2:\u001b[0m\n",
      "\u001b[0mecho \"$1\"| tr 'a-z' 'A-Z' \u001b[0m\n",
      "\u001b[32m              ^-- SC2018: Use '[:lower:]' to support accents and foreign alphabets.\u001b[0m\n",
      "\u001b[32m                    ^-- SC2019: Use '[:upper:]' to support accents and foreign alphabets.\u001b[0m\n",
      "\n"
     ]
    },
    {
     "ename": "",
     "evalue": "1",
     "output_type": "error",
     "traceback": []
    }
   ],
   "source": [
    "shellcheck sources/bash/badTR1.sh "
   ]
  },
  {
   "cell_type": "code",
   "execution_count": 7,
   "id": "46d95774",
   "metadata": {},
   "outputs": [
    {
     "name": "stdout",
     "output_type": "stream",
     "text": [
      "#!/bin/env bash\n",
      "echo \"$1\"| tr ':lower:' ':upper:' \n"
     ]
    }
   ],
   "source": [
    "cat sources/bash/goodTR1.sh"
   ]
  },
  {
   "cell_type": "code",
   "execution_count": null,
   "id": "bc059652",
   "metadata": {},
   "outputs": [],
   "source": []
  }
 ],
 "metadata": {
  "kernelspec": {
   "display_name": "Bash",
   "language": "bash",
   "name": "bash"
  },
  "language_info": {
   "codemirror_mode": "shell",
   "file_extension": ".sh",
   "mimetype": "text/x-sh",
   "name": "bash"
  }
 },
 "nbformat": 4,
 "nbformat_minor": 5
}
