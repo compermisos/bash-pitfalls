{
 "cells": [
  {
   "cell_type": "markdown",
   "id": "c3e0478b",
   "metadata": {},
   "source": [
    "# Transformando Cadenas\n",
    "ocuparemos tr para hacer mal las cosas\n",
    "\n",
    "Vamos con este simple script"
   ]
  },
  {
   "cell_type": "code",
   "execution_count": 1,
   "id": "f228032a",
   "metadata": {},
   "outputs": [
    {
     "name": "stdout",
     "output_type": "stream",
     "text": [
      "#!/bin/env bash\n",
      "echo $1| tr 'a-z' 'A-Z' \n"
     ]
    }
   ],
   "source": [
    "cat sources/bash/badTR1.sh"
   ]
  },
  {
   "cell_type": "code",
   "execution_count": 2,
   "id": "9303211c",
   "metadata": {},
   "outputs": [
    {
     "name": "stdout",
     "output_type": "stream",
     "text": [
      "HOLA MUNDO\n"
     ]
    }
   ],
   "source": [
    "bash sources/bash/badTR1.sh \"hola mundo\""
   ]
  },
  {
   "cell_type": "code",
   "execution_count": 3,
   "id": "5bbc6c13",
   "metadata": {},
   "outputs": [
    {
     "name": "stdout",
     "output_type": "stream",
     "text": [
      "HELADO DE PIñA\n"
     ]
    }
   ],
   "source": [
    "bash sources/bash/badTR1.sh \"Helado de piña\""
   ]
  },
  {
   "cell_type": "code",
   "execution_count": 1,
   "id": "b4a916f6",
   "metadata": {},
   "outputs": [
    {
     "name": "stdout",
     "output_type": "stream",
     "text": [
      "CUíDATE DE LA PIñA\n"
     ]
    }
   ],
   "source": [
    "bash sources/bash/badTR1.sh \"Cuídate de la piña\""
   ]
  },
  {
   "cell_type": "code",
   "execution_count": 5,
   "id": "791bcb46",
   "metadata": {},
   "outputs": [
    {
     "name": "stdout",
     "output_type": "stream",
     "text": [
      "\n",
      "\u001b[1mIn sources/bash/badTR1.sh line 2:\u001b[0m\n",
      "\u001b[0mecho \"$1\"| tr 'a-z' 'A-Z' \u001b[0m\n",
      "\u001b[32m              ^-- SC2018: Use '[:lower:]' to support accents and foreign alphabets.\u001b[0m\n",
      "\u001b[32m                    ^-- SC2019: Use '[:upper:]' to support accents and foreign alphabets.\u001b[0m\n",
      "\n"
     ]
    },
    {
     "ename": "",
     "evalue": "1",
     "output_type": "error",
     "traceback": []
    }
   ],
   "source": [
    "shellcheck sources/bash/badTR1.sh "
   ]
  },
  {
   "cell_type": "code",
   "execution_count": 16,
   "id": "f53501b2",
   "metadata": {},
   "outputs": [
    {
     "name": "stdout",
     "output_type": "stream",
     "text": [
      "#!/bin/env bash\n",
      "echo \"$1\"| tr '[:lower:]' '[:upper:]'  \n"
     ]
    }
   ],
   "source": [
    "cat sources/bash/goodTR1.sh "
   ]
  },
  {
   "cell_type": "code",
   "execution_count": 17,
   "id": "c709a55f",
   "metadata": {},
   "outputs": [
    {
     "name": "stdout",
     "output_type": "stream",
     "text": [
      "HOLA MUNDO\n"
     ]
    }
   ],
   "source": [
    "bash  sources/bash/goodTR1.sh \"hola mundo\""
   ]
  },
  {
   "cell_type": "code",
   "execution_count": 15,
   "id": "bf533ad4",
   "metadata": {},
   "outputs": [
    {
     "name": "stdout",
     "output_type": "stream",
     "text": [
      "HELADO DE PIñA\n"
     ]
    }
   ],
   "source": [
    " bash sources/bash/goodTR1.sh \"Helado de piña\""
   ]
  },
  {
   "cell_type": "code",
   "execution_count": 2,
   "id": "17f5a3df",
   "metadata": {},
   "outputs": [
    {
     "name": "stdout",
     "output_type": "stream",
     "text": [
      "CUíDATE DE LA PIñA\n"
     ]
    }
   ],
   "source": [
    "bash sources/bash/goodTR1.sh \"Cuídate de la piña\""
   ]
  },
  {
   "cell_type": "code",
   "execution_count": 3,
   "id": "7ae22e23",
   "metadata": {},
   "outputs": [],
   "source": [
    "shellcheck sources/bash/goodTR1.sh"
   ]
  },
  {
   "cell_type": "code",
   "execution_count": null,
   "id": "ca29b6de",
   "metadata": {},
   "outputs": [],
   "source": []
  }
 ],
 "metadata": {
  "kernelspec": {
   "display_name": "Bash",
   "language": "bash",
   "name": "bash"
  },
  "language_info": {
   "codemirror_mode": "shell",
   "file_extension": ".sh",
   "mimetype": "text/x-sh",
   "name": "bash"
  }
 },
 "nbformat": 4,
 "nbformat_minor": 5
}
