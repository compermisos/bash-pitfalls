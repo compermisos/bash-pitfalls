{
 "cells": [
  {
   "cell_type": "markdown",
   "id": "5c542f82",
   "metadata": {},
   "source": [
    "# Comparadores de IF para ficheros\n",
    "\n",
    "Muchos errores de scripts de bash son corregibles con controles de if, esta es la tabla de comparaciones para ficheros:\n",
    "\n",
    "\n",
    "\n",
    "    -d file                        checks if the file exists and is it’s a directory\n",
    "    -e file                        checks if the file exists on system\n",
    "    -w file                       checks if the file exists on system and if it is writable\n",
    "    -r file                        checks if the file exists on system and it is readable\n",
    "    -s file                        checks if the file exists on system and it is not empty\n",
    "    -f file                         checks if the file exists on system and it is a file\n",
    "    -O file                       checks if the file exists on system and if it’s is owned by the current user\n",
    "    -G file                        checks if the file exists and the default group is the same as the current user\n",
    "    -x file                         checks if the file exists on system and is executable\n",
    "    file A -nt file B         checks if file A is newer than file B\n",
    "    file A -ot file B          checks if file A is older than file B\n"
   ]
  },
  {
   "cell_type": "code",
   "execution_count": null,
   "id": "805751b8",
   "metadata": {},
   "outputs": [],
   "source": []
  }
 ],
 "metadata": {
  "kernelspec": {
   "display_name": "Bash",
   "language": "bash",
   "name": "bash"
  },
  "language_info": {
   "codemirror_mode": "shell",
   "file_extension": ".sh",
   "mimetype": "text/x-sh",
   "name": "bash"
  }
 },
 "nbformat": 4,
 "nbformat_minor": 5
}
