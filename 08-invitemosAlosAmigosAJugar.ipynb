{
 "cells": [
  {
   "cell_type": "markdown",
   "id": "3a30b527",
   "metadata": {},
   "source": [
    "# La vida es mas divertida cuando traemos a nuestros amigos\n",
    "Una forma de reducir nuestro trabajo es reutilizar scripts, pongamos un caso comun.\n",
    "Primero veamos donde andamos"
   ]
  },
  {
   "cell_type": "code",
   "execution_count": 12,
   "id": "7ced7492",
   "metadata": {},
   "outputs": [
    {
     "name": "stdout",
     "output_type": "stream",
     "text": [
      "/home/demo\n",
      "01-intro.ipynb\t\t    07-cambiandoDeDirectorio.ipynb     requirements.in\n",
      "02-entrecomillados.ipynb    08-invitemosAlosAmgosAJugar.ipynb  requirements.txt\n",
      "03-tools.ipynb\t\t    09-exit.ipynb\t\t       sources\n",
      "04-shellchek.ipynb\t    apt.txt\t\t\t       test\n",
      "05-entrecomillados-2.ipynb  postBuild\n",
      "06-variables.ipynb\t    README.md\n"
     ]
    }
   ],
   "source": [
    "pwd\n",
    "ls"
   ]
  },
  {
   "cell_type": "markdown",
   "id": "6f42180a",
   "metadata": {},
   "source": [
    "vamos a la carpeta donde estan los scripts"
   ]
  },
  {
   "cell_type": "code",
   "execution_count": 3,
   "id": "4216da96",
   "metadata": {},
   "outputs": [
    {
     "name": "stdout",
     "output_type": "stream",
     "text": [
      "badCD.sh    badif5.sh\t    badInclude.sh  badTR1.sh\t  goodTR1.sh\n",
      "badif10.sh  badif6.sh\t    badLS1.sh\t   emailTimer.sh  include.sh\n",
      "badif1.sh   badif7.sh\t    badLS2.sh\t   exitFail.sh\t  shebang.sh\n",
      "badif2.sh   badif8.sh\t    badLS3.sh\t   exitFixed.sh   simple.sh\n",
      "badif3.sh   badif9.sh\t    badpipe.sh\t   exit.sh\t  test\n",
      "badif4.sh   badInclude2.sh  badshebang.sh  goodCD.sh\t  variables.sh\n",
      "/home/demo/sources/bash\n"
     ]
    }
   ],
   "source": [
    "cd sources/bash\n",
    "ls\n",
    "pwd"
   ]
  },
  {
   "cell_type": "markdown",
   "id": "b66a00b1",
   "metadata": {},
   "source": [
    "ejecutemos algun script"
   ]
  },
  {
   "cell_type": "code",
   "execution_count": 5,
   "id": "82e2056b",
   "metadata": {},
   "outputs": [
    {
     "name": "stdout",
     "output_type": "stream",
     "text": [
      "/home/demo/sources/bash\n",
      "mkdir: cannot create directory ‘test’: File exists\n",
      "./goodCD.sh: line 9: cd: test2: No such file or directory\n",
      "algo fallo\n"
     ]
    }
   ],
   "source": [
    "pwd\n",
    "bash exitFixed.sh"
   ]
  },
  {
   "cell_type": "markdown",
   "id": "8348492b",
   "metadata": {},
   "source": [
    "bueno, vamos por un scrip"
   ]
  },
  {
   "cell_type": "code",
   "execution_count": 6,
   "id": "f6ff6044",
   "metadata": {},
   "outputs": [
    {
     "name": "stdout",
     "output_type": "stream",
     "text": [
      "#!/bin/env bash\n",
      "echo \"Hola!\"\n",
      "echo \"vamos a Ejecutar otro archivo\"\n",
      "bash ./goodCD.sh\n",
      "+ echo 'Hola!'\n",
      "Hola!\n",
      "+ echo 'vamos a Ejecutar otro archivo'\n",
      "vamos a Ejecutar otro archivo\n",
      "+ bash ./goodCD.sh\n",
      "mkdir: cannot create directory ‘test’: File exists\n",
      "./goodCD.sh: line 9: cd: test2: No such file or directory\n"
     ]
    },
    {
     "ename": "",
     "evalue": "1",
     "output_type": "error",
     "traceback": []
    }
   ],
   "source": [
    "cat badInclude.sh\n",
    "bash -x badInclude.sh"
   ]
  },
  {
   "cell_type": "markdown",
   "id": "cc3c3f9a",
   "metadata": {},
   "source": [
    "Ahora, hagamoslo real"
   ]
  },
  {
   "cell_type": "code",
   "execution_count": 8,
   "id": "9c922fe3",
   "metadata": {},
   "outputs": [
    {
     "name": "stdout",
     "output_type": "stream",
     "text": [
      "/home/demo\n",
      "+ echo 'Hola!'\n",
      "Hola!\n",
      "+ echo 'vamos a Ejecutar otro archivo'\n",
      "vamos a Ejecutar otro archivo\n",
      "+ bash ./goodCD.sh\n",
      "bash: ./goodCD.sh: No such file or directory\n"
     ]
    },
    {
     "ename": "",
     "evalue": "127",
     "output_type": "error",
     "traceback": []
    }
   ],
   "source": [
    "cd\n",
    "pwd\n",
    "bash -x sources/bash/badInclude.sh"
   ]
  },
  {
   "cell_type": "markdown",
   "id": "c5eafd1e",
   "metadata": {},
   "source": [
    "Pero si estaba funcionado, ¿Que paso?"
   ]
  },
  {
   "cell_type": "code",
   "execution_count": 9,
   "id": "b3f681bb",
   "metadata": {},
   "outputs": [
    {
     "name": "stdout",
     "output_type": "stream",
     "text": [
      "#!/bin/env bash\n",
      "echo \"Hola!\"\n",
      "echo \"vamos a Ejecutar otro archivo\"\n",
      "pwd\n",
      "bash ./goodCD.sh\n",
      "+ echo 'Hola!'\n",
      "Hola!\n",
      "+ echo 'vamos a Ejecutar otro archivo'\n",
      "vamos a Ejecutar otro archivo\n",
      "+ pwd\n",
      "/home/demo\n",
      "+ bash ./goodCD.sh\n",
      "bash: ./goodCD.sh: No such file or directory\n"
     ]
    },
    {
     "ename": "",
     "evalue": "127",
     "output_type": "error",
     "traceback": []
    }
   ],
   "source": [
    "cat sources/bash/badInclude2.sh\n",
    "bash -x sources/bash/badInclude2.sh"
   ]
  },
  {
   "cell_type": "markdown",
   "id": "43939178",
   "metadata": {},
   "source": [
    "en bash, el directorio de ejecucion, es el directorio desde donde se ejecuta, no donde vive el script, ¿como lo arreglamos?\n",
    "\n",
    "En realidad existen varias opciones, esta funciona en la mayoria de los casos:"
   ]
  },
  {
   "cell_type": "code",
   "execution_count": 10,
   "id": "df29cc84",
   "metadata": {},
   "outputs": [
    {
     "name": "stdout",
     "output_type": "stream",
     "text": [
      "#!/bin/env bash\n",
      "echo \"Hola!\"\n",
      "echo \"vamos a Ejecutar otro archivo\"\n",
      "bash \"$(dirname \"$0\")/goodCD.sh\"\n",
      "+ echo 'Hola!'\n",
      "Hola!\n",
      "+ echo 'vamos a Ejecutar otro archivo'\n",
      "vamos a Ejecutar otro archivo\n",
      "++ dirname sources/bash/include.sh\n",
      "+ bash sources/bash/goodCD.sh\n",
      "mkdir: cannot create directory ‘test’: File exists\n",
      "sources/bash/goodCD.sh: line 9: cd: test2: No such file or directory\n"
     ]
    },
    {
     "ename": "",
     "evalue": "1",
     "output_type": "error",
     "traceback": []
    }
   ],
   "source": [
    "cat sources/bash/include.sh\n",
    "bash -x sources/bash/include.sh"
   ]
  }
 ],
 "metadata": {
  "kernelspec": {
   "display_name": "Bash",
   "language": "bash",
   "name": "bash"
  },
  "language_info": {
   "codemirror_mode": "shell",
   "file_extension": ".sh",
   "mimetype": "text/x-sh",
   "name": "bash"
  }
 },
 "nbformat": 4,
 "nbformat_minor": 5
}
