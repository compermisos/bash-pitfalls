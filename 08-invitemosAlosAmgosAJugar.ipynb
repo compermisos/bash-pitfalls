{
 "cells": [
  {
   "cell_type": "markdown",
   "id": "3a30b527",
   "metadata": {},
   "source": [
    "# La vida es mas divertida cuando traemos a nuestros amigos\n",
    "Una forma de reducir nuestro trabajo es reutilizar scripts, pongamos un caso comun.\n",
    "Primero veamos donde andamos"
   ]
  },
  {
   "cell_type": "code",
   "execution_count": 12,
   "id": "7ced7492",
   "metadata": {},
   "outputs": [
    {
     "name": "stdout",
     "output_type": "stream",
     "text": [
      "/home/demo\n",
      "01-intro.ipynb\t\t    07-cambiandoDeDirectorio.ipynb     requirements.in\n",
      "02-entrecomillados.ipynb    08-invitemosAlosAmgosAJugar.ipynb  requirements.txt\n",
      "03-tools.ipynb\t\t    09-exit.ipynb\t\t       sources\n",
      "04-shellchek.ipynb\t    apt.txt\t\t\t       test\n",
      "05-entrecomillados-2.ipynb  postBuild\n",
      "06-variables.ipynb\t    README.md\n"
     ]
    }
   ],
   "source": [
    "pwd\n",
    "ls"
   ]
  },
  {
   "cell_type": "markdown",
   "id": "6f42180a",
   "metadata": {},
   "source": [
    "vamos a la carpeta donde estan los scripts"
   ]
  },
  {
   "cell_type": "code",
   "execution_count": 13,
   "id": "4216da96",
   "metadata": {},
   "outputs": [
    {
     "name": "stdout",
     "output_type": "stream",
     "text": [
      "badCD.sh\tbadshebang.sh  exitFixed.sh  include.sh  test\n",
      "badInclude2.sh\temailTimer.sh  exit.sh\t     shebang.sh  variables.sh\n",
      "badInclude.sh\texitFail.sh    godCD.sh      simple.sh\n",
      "/home/demo/sources/bash\n"
     ]
    }
   ],
   "source": [
    "cd sources/bash\n",
    "ls\n",
    "pwd"
   ]
  },
  {
   "cell_type": "markdown",
   "id": "b66a00b1",
   "metadata": {},
   "source": [
    "ejecutemos algun script"
   ]
  },
  {
   "cell_type": "code",
   "execution_count": 14,
   "id": "82e2056b",
   "metadata": {},
   "outputs": [
    {
     "name": "stdout",
     "output_type": "stream",
     "text": [
      "mkdir: cannot create directory ‘test’: File exists\n",
      "./godCD.sh: line 9: cd: test2: No such file or directory\n",
      "algo fallo\n"
     ]
    }
   ],
   "source": [
    "bash exitFixed.sh"
   ]
  },
  {
   "cell_type": "markdown",
   "id": "8348492b",
   "metadata": {},
   "source": [
    "bueno, vamos por un scrip"
   ]
  },
  {
   "cell_type": "code",
   "execution_count": 15,
   "id": "f6ff6044",
   "metadata": {},
   "outputs": [
    {
     "name": "stdout",
     "output_type": "stream",
     "text": [
      "#!/bin/env bash\n",
      "echo \"Hola!\"\n",
      "echo \"vamos a Ejecutar otro archivo\"\n",
      "bash ./godCD.sh\n",
      "+ echo 'Hola!'\n",
      "Hola!\n",
      "+ echo 'vamos a Ejecutar otro archivo'\n",
      "vamos a Ejecutar otro archivo\n",
      "+ bash ./godCD.sh\n",
      "mkdir: cannot create directory ‘test’: File exists\n",
      "./godCD.sh: line 9: cd: test2: No such file or directory\n"
     ]
    },
    {
     "ename": "",
     "evalue": "1",
     "output_type": "error",
     "traceback": []
    }
   ],
   "source": [
    "cat badInclude.sh\n",
    "bash -x badInclude.sh"
   ]
  },
  {
   "cell_type": "markdown",
   "id": "cc3c3f9a",
   "metadata": {},
   "source": [
    "Ahora, hagamoslo real"
   ]
  },
  {
   "cell_type": "code",
   "execution_count": 16,
   "id": "9c922fe3",
   "metadata": {},
   "outputs": [
    {
     "name": "stdout",
     "output_type": "stream",
     "text": [
      "/home/demo\n",
      "+ echo 'Hola!'\n",
      "Hola!\n",
      "+ echo 'vamos a Ejecutar otro archivo'\n",
      "vamos a Ejecutar otro archivo\n",
      "+ bash ./godCD.sh\n",
      "bash: ./godCD.sh: No such file or directory\n"
     ]
    },
    {
     "ename": "",
     "evalue": "127",
     "output_type": "error",
     "traceback": []
    }
   ],
   "source": [
    "cd\n",
    "pwd\n",
    "bash -x sources/bash/badInclude.sh"
   ]
  },
  {
   "cell_type": "markdown",
   "id": "c5eafd1e",
   "metadata": {},
   "source": [
    "Pero si estaba funcionado, ¿Que paso?"
   ]
  },
  {
   "cell_type": "code",
   "execution_count": 17,
   "id": "b3f681bb",
   "metadata": {},
   "outputs": [
    {
     "name": "stdout",
     "output_type": "stream",
     "text": [
      "#!/bin/env bash\n",
      "echo \"Hola!\"\n",
      "echo \"vamos a Ejecutar otro archivo\"\n",
      "pwd\n",
      "bash ./godCD.sh\n",
      "+ echo 'Hola!'\n",
      "Hola!\n",
      "+ echo 'vamos a Ejecutar otro archivo'\n",
      "vamos a Ejecutar otro archivo\n",
      "+ pwd\n",
      "/home/demo\n",
      "+ bash ./godCD.sh\n",
      "bash: ./godCD.sh: No such file or directory\n"
     ]
    },
    {
     "ename": "",
     "evalue": "127",
     "output_type": "error",
     "traceback": []
    }
   ],
   "source": [
    "cat sources/bash/badInclude2.sh\n",
    "bash -x sources/bash/badInclude2.sh"
   ]
  },
  {
   "cell_type": "markdown",
   "id": "43939178",
   "metadata": {},
   "source": [
    "en bash, el directorio de ejecucion, es el directorio desde donde se ejecuta, no donde vive el script, ¿como lo arreglamos?\n",
    "\n",
    "En realidad existen varias opciones, esta funciona en la mayoria de los casos:"
   ]
  },
  {
   "cell_type": "code",
   "execution_count": 18,
   "id": "df29cc84",
   "metadata": {},
   "outputs": [
    {
     "name": "stdout",
     "output_type": "stream",
     "text": [
      "#!/bin/env bash\n",
      "echo \"Hola!\"\n",
      "echo \"vamos a Ejecutar otro archivo\"\n",
      "bash \"$(dirname \"$0\")/godCD.sh\"\n",
      "+ echo 'Hola!'\n",
      "Hola!\n",
      "+ echo 'vamos a Ejecutar otro archivo'\n",
      "vamos a Ejecutar otro archivo\n",
      "++ dirname sources/bash/include.sh\n",
      "+ bash sources/bash/godCD.sh\n",
      "mkdir: cannot create directory ‘test’: File exists\n",
      "sources/bash/godCD.sh: line 9: cd: test2: No such file or directory\n"
     ]
    },
    {
     "ename": "",
     "evalue": "1",
     "output_type": "error",
     "traceback": []
    }
   ],
   "source": [
    "cat sources/bash/include.sh\n",
    "bash -x sources/bash/include.sh"
   ]
  }
 ],
 "metadata": {
  "kernelspec": {
   "display_name": "Bash",
   "language": "bash",
   "name": "bash"
  },
  "language_info": {
   "codemirror_mode": "shell",
   "file_extension": ".sh",
   "mimetype": "text/x-sh",
   "name": "bash"
  }
 },
 "nbformat": 4,
 "nbformat_minor": 5
}
