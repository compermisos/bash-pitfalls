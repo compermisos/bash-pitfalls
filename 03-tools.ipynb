{
 "cells": [
  {
   "cell_type": "markdown",
   "id": "ae520596",
   "metadata": {},
   "source": [
    "# Tools of trade\n",
    "\n",
    "Ocuparemos las siguientes utilidades a lo largo del demo\n",
    "\n",
    "*bash\n",
    "*cat\n",
    "*shellcheck\n",
    "\n",
    "Estan disponibles en esta imagen de docker, y las que no vienen por defecto estan en ubuntu/debian de la siguiente manera"
   ]
  },
  {
   "cell_type": "code",
   "execution_count": 1,
   "id": "1caa15a2",
   "metadata": {},
   "outputs": [
    {
     "name": "stdout",
     "output_type": "stream",
     "text": [
      "shellcheck\n"
     ]
    }
   ],
   "source": [
    "cat apt.txt"
   ]
  }
 ],
 "metadata": {
  "kernelspec": {
   "display_name": "Bash",
   "language": "bash",
   "name": "bash"
  },
  "language_info": {
   "codemirror_mode": "shell",
   "file_extension": ".sh",
   "mimetype": "text/x-sh",
   "name": "bash"
  }
 },
 "nbformat": 4,
 "nbformat_minor": 5
}
