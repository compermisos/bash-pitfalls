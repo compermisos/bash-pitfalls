{
 "cells": [
  {
   "cell_type": "markdown",
   "id": "af599821",
   "metadata": {},
   "source": [
    "# ShellCheck For The Win\n",
    "\n",
    "Shellcheck[https://www.shellcheck.net/] Es una herramienta tipo \"lint\" para distintos tipos de shell\n",
    "\n",
    "En estos ejemplos usaremos la configuracion para bash. Esto puede ser de dos maneras:"
   ]
  },
  {
   "cell_type": "code",
   "execution_count": 1,
   "id": "21931fdd",
   "metadata": {},
   "outputs": [],
   "source": [
    "shellcheck -s bash sources/bash/simple.sh"
   ]
  },
  {
   "cell_type": "markdown",
   "id": "d77ce2bf",
   "metadata": {},
   "source": [
    "Vemos el codigo"
   ]
  },
  {
   "cell_type": "code",
   "execution_count": 2,
   "id": "a9dd0b89",
   "metadata": {},
   "outputs": [
    {
     "name": "stdout",
     "output_type": "stream",
     "text": [
      "echo \"se supone que soy un bash\"\n"
     ]
    }
   ],
   "source": [
    "cat sources/bash/simple.sh"
   ]
  },
  {
   "cell_type": "markdown",
   "id": "18b22ea0",
   "metadata": {},
   "source": [
    "La otra forma de elegir el lenguaje es via el SheBang\n"
   ]
  },
  {
   "cell_type": "code",
   "execution_count": 3,
   "id": "b9ae1bdd",
   "metadata": {},
   "outputs": [
    {
     "name": "stdout",
     "output_type": "stream",
     "text": [
      "\n",
      "\u001b[1mIn sources/bash/simple.sh line 1:\u001b[0m\n",
      "\u001b[0mecho \"se supone que soy un bash\"\u001b[0m\n",
      "\u001b[31m^-- SC2148: Tips depend on target shell and yours is unknown. Add a shebang.\u001b[0m\n",
      "\n"
     ]
    },
    {
     "ename": "",
     "evalue": "1",
     "output_type": "error",
     "traceback": []
    }
   ],
   "source": [
    "shellcheck sources/bash/simple.sh"
   ]
  },
  {
   "cell_type": "markdown",
   "id": "64180b82",
   "metadata": {},
   "source": [
    "y ahora veamos con shebang"
   ]
  },
  {
   "cell_type": "code",
   "execution_count": 4,
   "id": "d17c5839",
   "metadata": {},
   "outputs": [
    {
     "name": "stdout",
     "output_type": "stream",
     "text": [
      "#!/bin/env bash\n",
      "echo \"esto es un script de bash\"\n"
     ]
    }
   ],
   "source": [
    "cat sources/bash/shebang.sh"
   ]
  },
  {
   "cell_type": "code",
   "execution_count": 5,
   "id": "b69574ff",
   "metadata": {},
   "outputs": [],
   "source": [
    "shellcheck sources/bash/shebang.sh"
   ]
  }
 ],
 "metadata": {
  "kernelspec": {
   "display_name": "Bash",
   "language": "bash",
   "name": "bash"
  },
  "language_info": {
   "codemirror_mode": "shell",
   "file_extension": ".sh",
   "mimetype": "text/x-sh",
   "name": "bash"
  }
 },
 "nbformat": 4,
 "nbformat_minor": 5
}
