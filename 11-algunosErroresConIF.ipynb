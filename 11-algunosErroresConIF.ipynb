{
 "cells": [
  {
   "cell_type": "markdown",
   "id": "8515a2d3",
   "metadata": {},
   "source": [
    "# Formas de romper IF\n",
    "En general la mayoria de errores que podemos cometer con IF lanzan errores en tiempo de ejecucion (por ejemplo escribir IF en mayusculas), o usar llaves cuadradas cuando no se necesita, o que nos falte un espacio, lo que las saca de nuestro alcance normal (aun asi shellheck tiene alertas de eso), tenemos un par de casos donde podemos romper facilmente cosas que funcionan bien, o hacer que algo paresca que funciona, pero en realidad no lo hace...\n",
    "\n",
    "Tomemos como ejemplo esto:"
   ]
  },
  {
   "cell_type": "code",
   "execution_count": 2,
   "id": "4803d305",
   "metadata": {},
   "outputs": [
    {
     "name": "stdout",
     "output_type": "stream",
     "text": [
      "#!/bin/env bash\n",
      "if [ 1 -eq 1 ]\n",
      "then\n",
      "  pwd\n",
      "fi\n",
      "+ '[' 1 -eq 1 ']'\n",
      "+ pwd\n",
      "/home/demo\n"
     ]
    }
   ],
   "source": [
    "cat sources/bash/badif1.sh\n",
    "bash -x sources/bash/badif1.sh"
   ]
  },
  {
   "cell_type": "markdown",
   "id": "3483cd57",
   "metadata": {},
   "source": [
    "pero resulta que el pwd solo era un debug y hemos desido comentarlo"
   ]
  },
  {
   "cell_type": "code",
   "execution_count": 6,
   "id": "c9f947fe",
   "metadata": {},
   "outputs": [
    {
     "name": "stdout",
     "output_type": "stream",
     "text": [
      "#!/bin/env bash\n",
      "if [ 1 -eq 1 ]\n",
      "then\n",
      "  #pwd\n",
      "fi\n",
      "sources/bash/badif2.sh: line 5: syntax error near unexpected token `fi'\n",
      "sources/bash/badif2.sh: line 5: `fi'\n",
      "\n",
      "\u001b[1mIn sources/bash/badif2.sh line 2:\u001b[0m\n",
      "\u001b[0mif [ 1 -eq 1 ]\u001b[0m\n",
      "\u001b[32m^-- SC1009: The mentioned parser error was in this if expression.\u001b[0m\n",
      "\n",
      "\n",
      "\u001b[1mIn sources/bash/badif2.sh line 3:\u001b[0m\n",
      "\u001b[0mthen\u001b[0m\n",
      "\u001b[31m^-- SC1073: Couldn't parse this then clause.\u001b[0m\n",
      "\n",
      "\n",
      "\u001b[1mIn sources/bash/badif2.sh line 5:\u001b[0m\n",
      "\u001b[0mfi\u001b[0m\n",
      "\u001b[31m^-- SC1048: Can't have empty then clauses (use 'true' as a no-op).\u001b[0m\n",
      "\u001b[31m  ^-- SC1072: Unexpected keyword/token. Fix any mentioned problems and try again.\u001b[0m\n",
      "\n"
     ]
    },
    {
     "ename": "",
     "evalue": "1",
     "output_type": "error",
     "traceback": []
    }
   ],
   "source": [
    "cat sources/bash/badif2.sh\n",
    "bash -x sources/bash/badif2.sh\n",
    "shellcheck sources/bash/badif2.sh"
   ]
  },
  {
   "cell_type": "markdown",
   "id": "016b8801",
   "metadata": {},
   "source": [
    "no podemos tener ramas en los if que sean vacias (esto es cierto en muchos lenguajes de programacion) y en bash los comentarios no cuentan como codigo, shellchek recomienda usar \"true\" pero puedes usar \":\" como comando abierto"
   ]
  },
  {
   "cell_type": "code",
   "execution_count": 8,
   "id": "e896c250",
   "metadata": {},
   "outputs": [
    {
     "name": "stdout",
     "output_type": "stream",
     "text": [
      "#!/bin/env bash\n",
      "if [ 1 -eq 1 ]\n",
      "then\n",
      "  #pwd\n",
      "  :\n",
      "fi\n",
      "+ '[' 1 -eq 1 ']'\n",
      "+ :\n",
      "\n",
      "\u001b[1mIn sources/bash/badif3.sh line 2:\u001b[0m\n",
      "\u001b[0mif [ 1 -eq 1 ]\u001b[0m\n",
      "\u001b[33m       ^-- SC2050: This expression is constant. Did you forget the $ on a variable?\u001b[0m\n",
      "\n"
     ]
    },
    {
     "ename": "",
     "evalue": "1",
     "output_type": "error",
     "traceback": []
    }
   ],
   "source": [
    "cat sources/bash/badif3.sh\n",
    "bash -x sources/bash/badif3.sh\n",
    "shellcheck sources/bash/badif3.sh"
   ]
  },
  {
   "cell_type": "code",
   "execution_count": null,
   "id": "77617300",
   "metadata": {},
   "outputs": [],
   "source": []
  },
  {
   "cell_type": "code",
   "execution_count": null,
   "id": "ae60cebc",
   "metadata": {},
   "outputs": [],
   "source": []
  }
 ],
 "metadata": {
  "kernelspec": {
   "display_name": "Bash",
   "language": "bash",
   "name": "bash"
  },
  "language_info": {
   "codemirror_mode": "shell",
   "file_extension": ".sh",
   "mimetype": "text/x-sh",
   "name": "bash"
  }
 },
 "nbformat": 4,
 "nbformat_minor": 5
}
