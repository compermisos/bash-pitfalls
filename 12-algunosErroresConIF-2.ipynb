{
 "cells": [
  {
   "cell_type": "markdown",
   "id": "45581bf9",
   "metadata": {},
   "source": [
    "# Formas de romper IF\n",
    "Ya vimos como podemos romper un script que funciona, y ahora veamos como se ve un script que no hace correctamente su trabajo.\n",
    "\n",
    "Shell Check ya nos dijo que la comparacion que estamos usando no tiene sentido, bien se pudo haber perdido el signo de pesos, demoselos"
   ]
  },
  {
   "cell_type": "code",
   "execution_count": 1,
   "id": "476b4b5b",
   "metadata": {},
   "outputs": [
    {
     "name": "stdout",
     "output_type": "stream",
     "text": [
      "\n",
      "\u001b[1mIn sources/bash/badif4.sh line 2:\u001b[0m\n",
      "\u001b[0mif [ 1 -eq 1 ]\u001b[0m\n",
      "\u001b[33m       ^-- SC2050: This expression is constant. Did you forget the $ on a variable?\u001b[0m\n",
      "\n"
     ]
    },
    {
     "ename": "",
     "evalue": "1",
     "output_type": "error",
     "traceback": []
    }
   ],
   "source": [
    "shellcheck sources/bash/badif4.sh"
   ]
  },
  {
   "cell_type": "code",
   "execution_count": 8,
   "id": "5f77aef7",
   "metadata": {},
   "outputs": [
    {
     "name": "stdout",
     "output_type": "stream",
     "text": [
      "#!/bin/env bash\n",
      "if [ \"$1\" -eq 1 ]\n",
      "then\n",
      "  pwd\n",
      "  :\n",
      "fi\n"
     ]
    }
   ],
   "source": [
    "cat sources/bash/badif5.sh\n",
    "shellcheck sources/bash/badif5.sh"
   ]
  },
  {
   "cell_type": "code",
   "execution_count": 9,
   "id": "2f2fae26",
   "metadata": {},
   "outputs": [],
   "source": [
    "bash sources/bash/badif5.sh 5"
   ]
  },
  {
   "cell_type": "code",
   "execution_count": 10,
   "id": "166f6fd5",
   "metadata": {},
   "outputs": [
    {
     "name": "stdout",
     "output_type": "stream",
     "text": [
      "/home/demo\n"
     ]
    }
   ],
   "source": [
    "bash sources/bash/badif5.sh 1"
   ]
  },
  {
   "cell_type": "code",
   "execution_count": 7,
   "id": "9a2fe9f6",
   "metadata": {},
   "outputs": [
    {
     "name": "stdout",
     "output_type": "stream",
     "text": [
      "sources/bash/badif5.sh: line 2: [: si: integer expression expected\n"
     ]
    }
   ],
   "source": [
    "bash sources/bash/badif5.sh si"
   ]
  },
  {
   "cell_type": "markdown",
   "id": "7ec7c587",
   "metadata": {},
   "source": [
    "Este es un caso raro, donde shellcheck no ve el error, y normalmente funciona bien, pero a veces falla, forcemos a shellcheck a decirnos el error"
   ]
  },
  {
   "cell_type": "code",
   "execution_count": 12,
   "id": "239aae4f",
   "metadata": {},
   "outputs": [
    {
     "name": "stdout",
     "output_type": "stream",
     "text": [
      "#!/bin/env bash\n",
      "\n",
      "if [ \"$1\" -eq \"si\" ]\n",
      "then\n",
      "  pwd\n",
      "  :\n",
      "fi\n",
      "\n",
      "\u001b[1mIn sources/bash/badif6.sh line 3:\u001b[0m\n",
      "\u001b[0mif [ \"$1\" -eq \"si\" ]\u001b[0m\n",
      "\u001b[31m              ^-- SC2170: Numerical -eq does not dereference in [..]. Expand or use string operator.\u001b[0m\n",
      "\n"
     ]
    },
    {
     "ename": "",
     "evalue": "1",
     "output_type": "error",
     "traceback": []
    }
   ],
   "source": [
    "cat sources/bash/badif6.sh\n",
    "shellcheck sources/bash/badif6.sh"
   ]
  },
  {
   "cell_type": "markdown",
   "id": "70cada0b",
   "metadata": {},
   "source": [
    "cambiemos el operador"
   ]
  },
  {
   "cell_type": "code",
   "execution_count": 13,
   "id": "d1a02057",
   "metadata": {},
   "outputs": [
    {
     "name": "stdout",
     "output_type": "stream",
     "text": [
      "#!/bin/env bash\n",
      "if [ \"$1\" = \"si\" ]\n",
      "then\n",
      "  pwd\n",
      "  :\n",
      "fi\n"
     ]
    }
   ],
   "source": [
    "cat sources/bash/badif7.sh\n",
    "shellcheck sources/bash/badif7.sh"
   ]
  },
  {
   "cell_type": "code",
   "execution_count": 17,
   "id": "30c75afa",
   "metadata": {},
   "outputs": [],
   "source": [
    "bash sources/bash/badif7.sh 5"
   ]
  },
  {
   "cell_type": "code",
   "execution_count": 16,
   "id": "fd64e10c",
   "metadata": {},
   "outputs": [],
   "source": [
    "bash sources/bash/badif7.sh 1"
   ]
  },
  {
   "cell_type": "code",
   "execution_count": 18,
   "id": "6ffbec14",
   "metadata": {},
   "outputs": [
    {
     "name": "stdout",
     "output_type": "stream",
     "text": [
      "/home/demo\n"
     ]
    }
   ],
   "source": [
    "bash sources/bash/badif7.sh \"si\""
   ]
  },
  {
   "cell_type": "markdown",
   "id": "561d7ecc",
   "metadata": {},
   "source": [
    "regresemos al numerico (tratado como string)"
   ]
  },
  {
   "cell_type": "code",
   "execution_count": 19,
   "id": "834c81d2",
   "metadata": {},
   "outputs": [
    {
     "name": "stdout",
     "output_type": "stream",
     "text": [
      "#!/bin/env bash\n",
      "if [ \"$1\" = \"1\" ]\n",
      "then\n",
      "  pwd\n",
      "  :\n",
      "fi\n"
     ]
    }
   ],
   "source": [
    "cat sources/bash/badif8.sh\n",
    "shellcheck sources/bash/badif8.sh"
   ]
  },
  {
   "cell_type": "code",
   "execution_count": 20,
   "id": "c9b699c7",
   "metadata": {},
   "outputs": [],
   "source": [
    "bash sources/bash/badif8.sh 5"
   ]
  },
  {
   "cell_type": "code",
   "execution_count": 21,
   "id": "4e06aa26",
   "metadata": {},
   "outputs": [
    {
     "name": "stdout",
     "output_type": "stream",
     "text": [
      "/home/demo\n"
     ]
    }
   ],
   "source": [
    "bash sources/bash/badif8.sh 1"
   ]
  },
  {
   "cell_type": "code",
   "execution_count": 22,
   "id": "027c48c9",
   "metadata": {},
   "outputs": [],
   "source": [
    "bash sources/bash/badif8.sh si"
   ]
  },
  {
   "cell_type": "code",
   "execution_count": null,
   "id": "74e3cbd5",
   "metadata": {},
   "outputs": [],
   "source": []
  }
 ],
 "metadata": {
  "kernelspec": {
   "display_name": "Bash",
   "language": "bash",
   "name": "bash"
  },
  "language_info": {
   "codemirror_mode": "shell",
   "file_extension": ".sh",
   "mimetype": "text/x-sh",
   "name": "bash"
  }
 },
 "nbformat": 4,
 "nbformat_minor": 5
}
