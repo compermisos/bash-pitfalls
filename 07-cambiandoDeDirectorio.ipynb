{
 "cells": [
  {
   "cell_type": "markdown",
   "id": "486dfdeb",
   "metadata": {},
   "source": [
    "# El CD de la muerte\n",
    "El comando cd es usado para cambiar de directorio, normalmente estos cambios ocurren correctamente, pero a veces no..."
   ]
  },
  {
   "cell_type": "code",
   "execution_count": 1,
   "id": "38b92cd0",
   "metadata": {},
   "outputs": [
    {
     "name": "stdout",
     "output_type": "stream",
     "text": [
      "+ variableBonita=test\n",
      "+ mkdir test\n",
      "mkdir: cannot create directory ‘test’: File exists\n",
      "+ touch test/ficheroA\n",
      "+ touch test/ficheroB\n",
      "+ touch test/ficheroC\n",
      "+ touch test/ficheroD\n",
      "+ cd test2\n",
      "sources/bash/badCD.sh: line 10: cd: test2: No such file or directory\n",
      "+ rm '*' -rf\n"
     ]
    }
   ],
   "source": [
    "bash -x sources/bash/badCD.sh"
   ]
  },
  {
   "cell_type": "markdown",
   "id": "340bbbff",
   "metadata": {},
   "source": [
    "¿Esto ya lo habiamos visto?\n",
    "si, en el ejemplo de mala definicion de variables, pero aqui estamos trabajando en la consecuencia del cd a una mala ruta.\n",
    "veamos que nos dice shellcheck de este caso"
   ]
  },
  {
   "cell_type": "code",
   "execution_count": 3,
   "id": "79ae2798",
   "metadata": {},
   "outputs": [
    {
     "name": "stdout",
     "output_type": "stream",
     "text": [
      "\n",
      "\u001b[1mIn sources/bash/badCD.sh line 10:\u001b[0m\n",
      "\u001b[0mcd \"$variablebonita\"\u001b[0m\n",
      "\u001b[33m^-- SC2164: Use 'cd ... || exit' or 'cd ... || return' in case cd fails.\u001b[0m\n",
      "\n"
     ]
    },
    {
     "ename": "",
     "evalue": "1",
     "output_type": "error",
     "traceback": []
    }
   ],
   "source": [
    "shellcheck sources/bash/badCD.sh"
   ]
  },
  {
   "cell_type": "markdown",
   "id": "48adc050",
   "metadata": {},
   "source": [
    "Veamos la correccion"
   ]
  },
  {
   "cell_type": "code",
   "execution_count": 2,
   "id": "13a7922e",
   "metadata": {},
   "outputs": [
    {
     "name": "stdout",
     "output_type": "stream",
     "text": [
      "#!/bin/env bash\n",
      "variableBonita=\"test\"\n",
      "\n",
      "mkdir \"$variableBonita\"\n",
      "touch \"$variableBonita/ficheroA\"\n",
      "touch \"$variableBonita/ficheroB\"\n",
      "touch \"$variableBonita/ficheroC\"\n",
      "touch \"$variableBonita/ficheroD\"\n",
      "cd \"$variableBonita\"2|| exit\n",
      "rm \"*\" -rf \n"
     ]
    }
   ],
   "source": [
    "cat sources/bash/goodCD.sh"
   ]
  },
  {
   "cell_type": "code",
   "execution_count": null,
   "id": "7b3c7042",
   "metadata": {},
   "outputs": [],
   "source": [
    "Ejecutemos!!!!"
   ]
  },
  {
   "cell_type": "code",
   "execution_count": 4,
   "id": "52dd356c",
   "metadata": {},
   "outputs": [
    {
     "name": "stdout",
     "output_type": "stream",
     "text": [
      "+ variableBonita=test\n",
      "+ mkdir test\n",
      "mkdir: cannot create directory ‘test’: File exists\n",
      "+ touch test/ficheroA\n",
      "+ touch test/ficheroB\n",
      "+ touch test/ficheroC\n",
      "+ touch test/ficheroD\n",
      "+ cd test2\n",
      "sources/bash/goodCD.sh: line 9: cd: test2: No such file or directory\n",
      "+ exit\n"
     ]
    },
    {
     "ename": "",
     "evalue": "1",
     "output_type": "error",
     "traceback": []
    }
   ],
   "source": [
    "bash -x sources/bash/goodCD.sh"
   ]
  },
  {
   "cell_type": "code",
   "execution_count": null,
   "id": "eef1a40d",
   "metadata": {},
   "outputs": [],
   "source": []
  }
 ],
 "metadata": {
  "kernelspec": {
   "display_name": "Bash",
   "language": "bash",
   "name": "bash"
  },
  "language_info": {
   "codemirror_mode": "shell",
   "file_extension": ".sh",
   "mimetype": "text/x-sh",
   "name": "bash"
  }
 },
 "nbformat": 4,
 "nbformat_minor": 5
}
