{
 "cells": [
  {
   "cell_type": "markdown",
   "id": "0246516a",
   "metadata": {},
   "source": [
    "# (Mal)Usando Variables\n",
    "las variables como todo, si son definidas incorrectamente, pueden ser una gran fuente de problemas."
   ]
  },
  {
   "cell_type": "code",
   "execution_count": 3,
   "id": "59902431",
   "metadata": {},
   "outputs": [
    {
     "name": "stdout",
     "output_type": "stream",
     "text": [
      "mkdir: cannot create directory ‘test’: File exists\n"
     ]
    }
   ],
   "source": [
    "bash  sources/bash/variables.sh"
   ]
  },
  {
   "cell_type": "markdown",
   "id": "2167d501",
   "metadata": {},
   "source": [
    "este ejemplo tiene todo el potencial de salir mal, asi que esta explicitamente roto, en vez de realmente intentar borrar todo el contenido de una carpeta, con el intercomillado solo borramos el archivo \"*\".\n",
    "pero, ¿que esta mal?"
   ]
  },
  {
   "cell_type": "code",
   "execution_count": 2,
   "id": "3ef4935e",
   "metadata": {},
   "outputs": [
    {
     "name": "stdout",
     "output_type": "stream",
     "text": [
      "#!/bin/env bash\n",
      "variableBonita=\"test\"\n",
      "\n",
      "mkdir \"$variableBonita\"\n",
      "touch \"$variableBonita/ficheroA\"\n",
      "touch \"$variableBonita/ficheroB\"\n",
      "touch \"$variableBonita/ficheroC\"\n",
      "touch \"$variableBonita/ficheroD\"\n",
      "# shellcheck disable=SC2164\n",
      "cd \"$variablebonita\"\n",
      "rm \"*\" -rf \n"
     ]
    }
   ],
   "source": [
    "cat sources/bash/variables.sh"
   ]
  },
  {
   "cell_type": "markdown",
   "id": "313ef3ed",
   "metadata": {},
   "source": [
    "que nos dice shellcheck?"
   ]
  },
  {
   "cell_type": "code",
   "execution_count": 4,
   "id": "3a84c1c7",
   "metadata": {},
   "outputs": [
    {
     "name": "stdout",
     "output_type": "stream",
     "text": [
      "\n",
      "\u001b[1mIn sources/bash/variables.sh line 10:\u001b[0m\n",
      "\u001b[0mcd \"$variablebonita\"\u001b[0m\n",
      "\u001b[33m    ^-- SC2154: variablebonita is referenced but not assigned (did you mean 'variableBonita'?).\u001b[0m\n",
      "\n"
     ]
    },
    {
     "ename": "",
     "evalue": "1",
     "output_type": "error",
     "traceback": []
    }
   ],
   "source": [
    "shellcheck sources/bash/variables.sh"
   ]
  },
  {
   "cell_type": "code",
   "execution_count": null,
   "id": "ea3ee8b7",
   "metadata": {},
   "outputs": [],
   "source": []
  }
 ],
 "metadata": {
  "kernelspec": {
   "display_name": "Bash",
   "language": "bash",
   "name": "bash"
  },
  "language_info": {
   "codemirror_mode": "shell",
   "file_extension": ".sh",
   "mimetype": "text/x-sh",
   "name": "bash"
  }
 },
 "nbformat": 4,
 "nbformat_minor": 5
}
