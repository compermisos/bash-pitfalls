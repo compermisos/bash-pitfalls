{
 "cells": [
  {
   "cell_type": "markdown",
   "id": "e2d8f636",
   "metadata": {},
   "source": [
    "# salida/entrada/error Estandar\n",
    "\n",
    "Por defecto, todo lo que se ejecuta en bash, lee de la entrada estandar, escribe en la salida estandar, y si tiene un error, lo informa en la salida estandar\n",
    "\n",
    "Esto nos permiete guardar la salida de algun comando en un archivo, o poner la salida de un comando, en la entrada de otro.\n",
    "\n",
    "primero ejemplifiquemos un comando que procesa la salida de otro, grep nos permite buscar expresiones regulares (o no) en lo que le indiquemos, y el comando ps nos enseña los procesos en ejecucion"
   ]
  },
  {
   "cell_type": "code",
   "execution_count": 18,
   "id": "1448965c",
   "metadata": {},
   "outputs": [
    {
     "name": "stdout",
     "output_type": "stream",
     "text": [
      "demo          50  0.0  0.0      0     0 ?        Zs   03:13   0:00 [bash] <defunct>\n",
      "demo         139  0.0  0.0      0     0 ?        Zs   03:19   0:00 [bash] <defunct>\n",
      "demo         156  0.0  0.3 461988 49248 ?        Ssl  03:22   0:00 /srv/conda/envs/notebook/bin/python -m bash_kernel -f /home/demo/.local/share/jupyter/runtime/kernel-1b469ee0-b7b7-4bdc-a214-f198bdcbe283.json\n",
      "demo         168  0.0  0.0  20192  3612 pts/0    Ss   03:22   0:00 /bin/bash --rcfile /srv/conda/envs/notebook/lib/python3.7/site-packages/pexpect/bashrc.sh\n",
      "demo         223  0.0  0.0  13148  1012 pts/0    S+   03:31   0:00 grep bash\n"
     ]
    }
   ],
   "source": [
    "ps -aux |grep bash"
   ]
  },
  {
   "cell_type": "markdown",
   "id": "5c3436d3",
   "metadata": {},
   "source": [
    "podemos ejecutar ps -aux, solo lo que nos daria una salida realmente grande, incluso podemos guardarla en un archivo"
   ]
  },
  {
   "cell_type": "code",
   "execution_count": 25,
   "id": "1fff6a85",
   "metadata": {},
   "outputs": [
    {
     "name": "stdout",
     "output_type": "stream",
     "text": [
      "8 test/ps.txt\n",
      "USER         PID %CPU %MEM    VSZ   RSS TTY      STAT START   TIME COMMAND\n",
      "demo           1  0.0  0.0  25920  9796 ?        Ss   03:02   0:00 python3 -u /usr/local/bin/repo2docker-entrypoint jupyter notebook --ip 0.0.0.0 --port 56551 --NotebookApp.custom_display_url=http://127.0.0.1:56551\n",
      "demo          19  0.3  0.4 247136 79664 ?        Sl   03:02   0:06 /srv/conda/envs/notebook/bin/python3.7 /srv/conda/envs/notebook/bin/jupyter-notebook --ip 0.0.0.0 --port 56551 --NotebookApp.custom_display_url=http://127.0.0.1:56551\n",
      "demo          50  0.0  0.0      0     0 ?        Zs   03:13   0:00 [bash] <defunct>\n",
      "demo         139  0.0  0.0      0     0 ?        Zs   03:19   0:00 [bash] <defunct>\n",
      "demo         156  0.0  0.3 461988 49316 ?        Ssl  03:22   0:00 /srv/conda/envs/notebook/bin/python -m bash_kernel -f /home/demo/.local/share/jupyter/runtime/kernel-1b469ee0-b7b7-4bdc-a214-f198bdcbe283.json\n",
      "demo         168  0.0  0.0  20192  3616 pts/0    Ss   03:22   0:00 /bin/bash --rcfile /srv/conda/envs/notebook/lib/python3.7/site-packages/pexpect/bashrc.sh\n",
      "demo         249  0.0  0.0  36088  3244 pts/0    R+   03:33   0:00 ps -aux\n"
     ]
    }
   ],
   "source": [
    "mkdir -p test/\n",
    "ps -aux > test/ps.txt\n",
    "wc -l test/ps.txt\n",
    "cat test/ps.txt"
   ]
  },
  {
   "cell_type": "markdown",
   "id": "30f8bf4e",
   "metadata": {},
   "source": [
    "con el archivo escrito, podemos procesarlo con grep"
   ]
  },
  {
   "cell_type": "code",
   "execution_count": 16,
   "id": "b7928061",
   "metadata": {},
   "outputs": [
    {
     "name": "stdout",
     "output_type": "stream",
     "text": [
      "demo          50  0.0  0.0      0     0 ?        Zs   03:13   0:00 [bash] <defunct>\n",
      "demo         139  0.0  0.0      0     0 ?        Zs   03:19   0:00 [bash] <defunct>\n",
      "demo         156  0.0  0.3 461988 49248 ?        Ssl  03:22   0:00 /srv/conda/envs/notebook/bin/python -m bash_kernel -f /home/demo/.local/share/jupyter/runtime/kernel-1b469ee0-b7b7-4bdc-a214-f198bdcbe283.json\n",
      "demo         168  0.0  0.0  20192  3612 pts/0    Ss   03:22   0:00 /bin/bash --rcfile /srv/conda/envs/notebook/lib/python3.7/site-packages/pexpect/bashrc.sh\n"
     ]
    }
   ],
   "source": [
    "grep bash test/ps.txt"
   ]
  },
  {
   "cell_type": "markdown",
   "id": "fe37f82c",
   "metadata": {},
   "source": [
    "bueno, ahora guardemos la salida"
   ]
  },
  {
   "cell_type": "code",
   "execution_count": 26,
   "id": "7bb2a17c",
   "metadata": {},
   "outputs": [
    {
     "name": "stdout",
     "output_type": "stream",
     "text": [
      "USER         PID %CPU %MEM    VSZ   RSS TTY      STAT START   TIME COMMAND\n",
      "demo           1  0.0  0.0  25920  9796 ?        Ss   03:02   0:00 python3 -u /usr/local/bin/repo2docker-entrypoint jupyter notebook --ip 0.0.0.0 --port 56551 --NotebookApp.custom_display_url=http://127.0.0.1:56551\n",
      "demo          19  0.3  0.4 247136 79664 ?        Sl   03:02   0:06 /srv/conda/envs/notebook/bin/python3.7 /srv/conda/envs/notebook/bin/jupyter-notebook --ip 0.0.0.0 --port 56551 --NotebookApp.custom_display_url=http://127.0.0.1:56551\n",
      "demo          50  0.0  0.0      0     0 ?        Zs   03:13   0:00 [bash] <defunct>\n",
      "demo         139  0.0  0.0      0     0 ?        Zs   03:19   0:00 [bash] <defunct>\n",
      "demo         156  0.0  0.3 461988 49316 ?        Ssl  03:22   0:00 /srv/conda/envs/notebook/bin/python -m bash_kernel -f /home/demo/.local/share/jupyter/runtime/kernel-1b469ee0-b7b7-4bdc-a214-f198bdcbe283.json\n",
      "demo         168  0.0  0.0  20192  3616 pts/0    Ss   03:22   0:00 /bin/bash --rcfile /srv/conda/envs/notebook/lib/python3.7/site-packages/pexpect/bashrc.sh\n",
      "demo         249  0.0  0.0  36088  3244 pts/0    R+   03:33   0:00 ps -aux\n",
      "###########\n"
     ]
    }
   ],
   "source": [
    "cat test/ps.txt\n",
    "echo \"###########\"\n",
    "grep bash test/ps.txt |cat> test/ps.txt\n",
    "cat test/ps.txt"
   ]
  },
  {
   "cell_type": "markdown",
   "id": "04145151",
   "metadata": {},
   "source": [
    "¿que paso?, volvamos a ver el primer comando"
   ]
  },
  {
   "cell_type": "code",
   "execution_count": 27,
   "id": "6c14653e",
   "metadata": {},
   "outputs": [
    {
     "name": "stdout",
     "output_type": "stream",
     "text": [
      "demo          50  0.0  0.0      0     0 ?        Zs   03:13   0:00 [bash] <defunct>\n",
      "demo         139  0.0  0.0      0     0 ?        Zs   03:19   0:00 [bash] <defunct>\n",
      "demo         156  0.0  0.3 461988 49316 ?        Ssl  03:22   0:00 /srv/conda/envs/notebook/bin/python -m bash_kernel -f /home/demo/.local/share/jupyter/runtime/kernel-1b469ee0-b7b7-4bdc-a214-f198bdcbe283.json\n",
      "demo         168  0.0  0.0  20192  3616 pts/0    Ss   03:22   0:00 /bin/bash --rcfile /srv/conda/envs/notebook/lib/python3.7/site-packages/pexpect/bashrc.sh\n",
      "demo         257  0.0  0.0  13148  1048 pts/0    S+   03:33   0:00 grep bash\n"
     ]
    }
   ],
   "source": [
    "ps -aux |grep bash"
   ]
  },
  {
   "cell_type": "markdown",
   "id": "c45816cb",
   "metadata": {},
   "source": [
    "en bash, todos los comandos de un pipe son ejeutados a la vez, (en realidad, son puestos en el scheduller a la vez, y se ejecutan en cierta manera al azahar, pero es normal que el ultimo comando se ejecute primero)\n",
    "\n",
    "en una redireccion (>) es relativamente comun, que la escritura (con el truncado del archivo) se ejecute primero y cuando leas el archivo leas un archivo vacio, veamos que alerta nos da shellcheck"
   ]
  },
  {
   "cell_type": "code",
   "execution_count": 1,
   "id": "67cfa985",
   "metadata": {},
   "outputs": [
    {
     "name": "stdout",
     "output_type": "stream",
     "text": [
      "\n",
      "\u001b[1mIn sources/bash/badpipe.sh line 7:\u001b[0m\n",
      "\u001b[0mgrep bash test/ps.txt |cat> test/ps.txt\u001b[0m\n",
      "\u001b[32m          ^-- SC2094: Make sure not to read and write the same file in the same pipeline.\u001b[0m\n",
      "\u001b[32m                            ^-- SC2094: Make sure not to read and write the same file in the same pipeline.\u001b[0m\n",
      "\n"
     ]
    },
    {
     "ename": "",
     "evalue": "1",
     "output_type": "error",
     "traceback": []
    }
   ],
   "source": [
    "shellcheck sources/bash/badpipe.sh"
   ]
  },
  {
   "cell_type": "markdown",
   "id": "5f1af96e",
   "metadata": {},
   "source": [
    "la verdad es que grep nos advierte del problema..."
   ]
  },
  {
   "cell_type": "code",
   "execution_count": 4,
   "id": "0fba8abc",
   "metadata": {},
   "outputs": [
    {
     "name": "stdout",
     "output_type": "stream",
     "text": [
      "grep: input file ‘test/ps.txt’ is also the output\n"
     ]
    },
    {
     "ename": "",
     "evalue": "2",
     "output_type": "error",
     "traceback": []
    }
   ],
   "source": [
    "grep bash test/ps.txt > test/ps.txt"
   ]
  },
  {
   "cell_type": "markdown",
   "id": "59750c61",
   "metadata": {},
   "source": [
    "Como podemos evitar esto? shellcheck recomienda algo asi"
   ]
  },
  {
   "cell_type": "code",
   "execution_count": 5,
   "id": "bc503283",
   "metadata": {},
   "outputs": [
    {
     "ename": "",
     "evalue": "1",
     "output_type": "error",
     "traceback": []
    }
   ],
   "source": [
    "grep bash test/ps.txt >test/tmpfile && mv test/tmpfile test/ps.txt"
   ]
  },
  {
   "cell_type": "markdown",
   "id": "24edd527",
   "metadata": {},
   "source": [
    "otra opcion podria ser sponge (del componente moreutils)"
   ]
  },
  {
   "cell_type": "code",
   "execution_count": 6,
   "id": "df1123f9",
   "metadata": {},
   "outputs": [],
   "source": [
    "grep bash test/ps.txt |sponge test/ps.txt"
   ]
  },
  {
   "cell_type": "markdown",
   "id": "f43fed85",
   "metadata": {},
   "source": [
    "pero la verdad es que yo no encuentro un motivo legitimo para leer y escribir la salida en el mismo archivo, en especial cuando la transformacion podria fallar y tengas que lanzarla de nuevo..."
   ]
  }
 ],
 "metadata": {
  "kernelspec": {
   "display_name": "Bash",
   "language": "bash",
   "name": "bash"
  },
  "language_info": {
   "codemirror_mode": "shell",
   "file_extension": ".sh",
   "mimetype": "text/x-sh",
   "name": "bash"
  }
 },
 "nbformat": 4,
 "nbformat_minor": 5
}
