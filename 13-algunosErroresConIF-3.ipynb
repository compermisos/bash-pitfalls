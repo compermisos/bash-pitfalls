{
 "cells": [
  {
   "cell_type": "markdown",
   "id": "3f568777",
   "metadata": {},
   "source": [
    "# Formas de romper IF\n",
    "Bueno, ya vimos que a veces las comparaciones se rompen, y hemos estado viendo como si la carpeta existe, \"mkdir\" regresa un error.\n",
    "\n",
    "veamos un script para solucionarlo"
   ]
  },
  {
   "cell_type": "code",
   "execution_count": 2,
   "id": "8d6449e1",
   "metadata": {},
   "outputs": [
    {
     "name": "stdout",
     "output_type": "stream",
     "text": [
      "#!/bin/env bash\n",
      "dir=\"test\"\n",
      "if mkdir \"$dir\"\n",
      "then\n",
      "  cd \"$dir\"\n",
      "  for i in $(seq 1 10); do\n",
      "    touch \"file$i\"\n",
      "  done\n",
      "  ls\n",
      "  #rm *\n",
      "  ls\n",
      "  :\n",
      "fi\n"
     ]
    }
   ],
   "source": [
    "cat sources/bash/badif9.sh\n",
    "rm -rf test/"
   ]
  },
  {
   "cell_type": "markdown",
   "id": "c27760de",
   "metadata": {},
   "source": [
    "pues vamos a ejecutarlo"
   ]
  },
  {
   "cell_type": "code",
   "execution_count": 3,
   "id": "42fa0850",
   "metadata": {},
   "outputs": [
    {
     "name": "stdout",
     "output_type": "stream",
     "text": [
      "file1  file10  file2  file3  file4  file5  file6  file7  file8\tfile9\n",
      "file1  file10  file2  file3  file4  file5  file6  file7  file8\tfile9\n"
     ]
    }
   ],
   "source": [
    "bash sources/bash/badif9.sh"
   ]
  },
  {
   "cell_type": "code",
   "execution_count": 4,
   "id": "d7e4fb16",
   "metadata": {},
   "outputs": [
    {
     "name": "stdout",
     "output_type": "stream",
     "text": [
      "mkdir: cannot create directory ‘test’: File exists\n"
     ]
    }
   ],
   "source": [
    "bash sources/bash/badif9.sh"
   ]
  },
  {
   "cell_type": "markdown",
   "id": "6eeb78b8",
   "metadata": {},
   "source": [
    "si lo ejecuto 2 veces no pasa nada?\n",
    "veamos el correcto:"
   ]
  },
  {
   "cell_type": "code",
   "execution_count": 7,
   "id": "cc6ce8f0",
   "metadata": {},
   "outputs": [
    {
     "name": "stdout",
     "output_type": "stream",
     "text": [
      "#!/bin/env bash\n",
      "dir=\"test\"\n",
      "mkdir -p \"$dir\"\n",
      "if [ -d \"$dir\" ]\n",
      "then\n",
      "  cd \"$dir\"\n",
      "  for i in $(seq 1 10); do\n",
      "    touch \"file$i\"\n",
      "  done\n",
      "  ls\n",
      "  rm *\n",
      "  ls\n",
      "  :\n",
      "fi\n",
      "file1  file10  file2  file3  file4  file5  file6  file7  file8\tfile9\n",
      "##########\n",
      "file1  file10  file2  file3  file4  file5  file6  file7  file8\tfile9\n"
     ]
    }
   ],
   "source": [
    "cat sources/bash/badif10.sh\n",
    "rm -rf test/\n",
    "bash sources/bash/badif10.sh\n",
    "echo \"##########\"\n",
    "bash sources/bash/badif10.sh"
   ]
  },
  {
   "cell_type": "code",
   "execution_count": null,
   "id": "eef3c7b1",
   "metadata": {},
   "outputs": [],
   "source": []
  }
 ],
 "metadata": {
  "kernelspec": {
   "display_name": "Bash",
   "language": "bash",
   "name": "bash"
  },
  "language_info": {
   "codemirror_mode": "shell",
   "file_extension": ".sh",
   "mimetype": "text/x-sh",
   "name": "bash"
  }
 },
 "nbformat": 4,
 "nbformat_minor": 5
}
