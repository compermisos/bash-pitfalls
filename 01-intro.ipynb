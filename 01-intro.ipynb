{
 "cells": [
  {
   "cell_type": "markdown",
   "id": "6ebec91e",
   "metadata": {},
   "source": [
    "# Bash Pitfalls\n",
    "O como viajar por accidente"
   ]
  },
  {
   "cell_type": "markdown",
   "id": "550b4da3",
   "metadata": {},
   "source": [
    "Existen varios errores comunes en bash, que a veces no nos damos cuenta y ejecutamos.\n",
    "\n",
    "Algunos parecen inofencivos, otros, te llevan a algunos viajes no planeados."
   ]
  },
  {
   "cell_type": "code",
   "execution_count": 1,
   "id": "562e1c3c",
   "metadata": {},
   "outputs": [
    {
     "name": "stdout",
     "output_type": "stream",
     "text": [
      "Hola Mundo\n"
     ]
    }
   ],
   "source": [
    "echo Hola Mundo"
   ]
  },
  {
   "cell_type": "markdown",
   "id": "28f8e731",
   "metadata": {},
   "source": [
    "Las reglas para elegir los casos son simples. No importan bashismos, en la medida de lo posible es compatible con sh, pero esto no es siempre cierto.\n",
    "el comando tiene que ejecutarse sin problemas, preferentemente sin dar una alerta de que algo esta mal."
   ]
  },
  {
   "cell_type": "code",
   "execution_count": null,
   "id": "a2d80993",
   "metadata": {},
   "outputs": [],
   "source": []
  }
 ],
 "metadata": {
  "kernelspec": {
   "display_name": "Bash",
   "language": "bash",
   "name": "bash"
  },
  "language_info": {
   "codemirror_mode": "shell",
   "file_extension": ".sh",
   "mimetype": "text/x-sh",
   "name": "bash"
  }
 },
 "nbformat": 4,
 "nbformat_minor": 5
}
