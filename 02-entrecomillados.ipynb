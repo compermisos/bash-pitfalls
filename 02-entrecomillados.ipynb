{
 "cells": [
  {
   "cell_type": "markdown",
   "id": "31e39798",
   "metadata": {},
   "source": [
    "# Primer error\n",
    "\n",
    "El error mas comun en bash, es no entrecomillar"
   ]
  },
  {
   "cell_type": "markdown",
   "id": "8d4b5835",
   "metadata": {},
   "source": [
    "Primero, declararemos una variable"
   ]
  },
  {
   "cell_type": "code",
   "execution_count": 1,
   "id": "d5a30529",
   "metadata": {},
   "outputs": [],
   "source": [
    "headline=\"* Headline *\""
   ]
  },
  {
   "cell_type": "markdown",
   "id": "540a503e",
   "metadata": {},
   "source": [
    "Ahora, intentaremos recuperar el valor de la variables"
   ]
  },
  {
   "cell_type": "code",
   "execution_count": 2,
   "id": "b626f3f3",
   "metadata": {},
   "outputs": [
    {
     "name": "stdout",
     "output_type": "stream",
     "text": [
      "01-intro.ipynb 02-entrecomillados.ipynb 03-tools.ipynb 04-shellchek.ipynb 05-entrecomillados-2.ipynb 06-variables.ipynb 07-cambiandoDeDirectorio.ipynb 08-invitemosAlosAmgosAJugar.ipynb 09-exit.ipynb 10-usando la salida.ipynb 11-algunosErroresConIF.ipynb 12-algunosErroresConIF-2.ipynb 13-algunosErroresConIF-3.ipynb 14-IF-FTW.ipynb 15-rompiedoLS.ipynb 16-TransformadoCadenas.ipynb 17-aDondeSeFueMiEntrada.ipynb apt.txt postBuild README.md requirements.in requirements.txt servers.txt sources test Headline 01-intro.ipynb 02-entrecomillados.ipynb 03-tools.ipynb 04-shellchek.ipynb 05-entrecomillados-2.ipynb 06-variables.ipynb 07-cambiandoDeDirectorio.ipynb 08-invitemosAlosAmgosAJugar.ipynb 09-exit.ipynb 10-usando la salida.ipynb 11-algunosErroresConIF.ipynb 12-algunosErroresConIF-2.ipynb 13-algunosErroresConIF-3.ipynb 14-IF-FTW.ipynb 15-rompiedoLS.ipynb 16-TransformadoCadenas.ipynb 17-aDondeSeFueMiEntrada.ipynb apt.txt postBuild README.md requirements.in requirements.txt servers.txt sources test\n"
     ]
    }
   ],
   "source": [
    "echo $headline"
   ]
  },
  {
   "cell_type": "markdown",
   "id": "50143286",
   "metadata": {},
   "source": [
    "¿Que paso? al no entrecomillar, los asteriscos fueron interpretados por bash, veamos un ejemplo"
   ]
  },
  {
   "cell_type": "code",
   "execution_count": 3,
   "id": "52ec9639",
   "metadata": {},
   "outputs": [
    {
     "name": "stdout",
     "output_type": "stream",
     "text": [
      "01-intro.ipynb 02-entrecomillados.ipynb 03-tools.ipynb 04-shellchek.ipynb 05-entrecomillados-2.ipynb 06-variables.ipynb 07-cambiandoDeDirectorio.ipynb 08-invitemosAlosAmgosAJugar.ipynb 09-exit.ipynb 10-usando la salida.ipynb 11-algunosErroresConIF.ipynb 12-algunosErroresConIF-2.ipynb 13-algunosErroresConIF-3.ipynb 14-IF-FTW.ipynb 15-rompiedoLS.ipynb 16-TransformadoCadenas.ipynb 17-aDondeSeFueMiEntrada.ipynb apt.txt postBuild README.md requirements.in requirements.txt servers.txt sources test\n"
     ]
    }
   ],
   "source": [
    "echo *"
   ]
  },
  {
   "cell_type": "markdown",
   "id": "907b08aa",
   "metadata": {},
   "source": [
    "y cual es la correcta?"
   ]
  },
  {
   "cell_type": "code",
   "execution_count": 4,
   "id": "6608771b",
   "metadata": {},
   "outputs": [
    {
     "name": "stdout",
     "output_type": "stream",
     "text": [
      "* Headline *\n"
     ]
    }
   ],
   "source": [
    "echo \"$headline\""
   ]
  },
  {
   "cell_type": "code",
   "execution_count": null,
   "id": "b52b04e3",
   "metadata": {},
   "outputs": [],
   "source": []
  }
 ],
 "metadata": {
  "kernelspec": {
   "display_name": "Bash",
   "language": "bash",
   "name": "bash"
  },
  "language_info": {
   "codemirror_mode": "shell",
   "file_extension": ".sh",
   "mimetype": "text/x-sh",
   "name": "bash"
  }
 },
 "nbformat": 4,
 "nbformat_minor": 5
}
