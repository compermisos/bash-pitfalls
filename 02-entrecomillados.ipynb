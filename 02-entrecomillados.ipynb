{
 "cells": [
  {
   "cell_type": "markdown",
   "id": "31e39798",
   "metadata": {},
   "source": [
    "# Primer error\n",
    "\n",
    "El error mas comun en bash, es no entrecomillar"
   ]
  },
  {
   "cell_type": "markdown",
   "id": "8d4b5835",
   "metadata": {},
   "source": [
    "Primero, declararemos una variable"
   ]
  },
  {
   "cell_type": "code",
   "execution_count": 1,
   "id": "d5a30529",
   "metadata": {},
   "outputs": [],
   "source": [
    "headline=\"* Headline *\""
   ]
  },
  {
   "cell_type": "markdown",
   "id": "540a503e",
   "metadata": {},
   "source": [
    "Ahora, intentaremos recuperar el valor de la variables"
   ]
  },
  {
   "cell_type": "code",
   "execution_count": 2,
   "id": "b626f3f3",
   "metadata": {},
   "outputs": [
    {
     "name": "stdout",
     "output_type": "stream",
     "text": [
      "01-intro.ipynb 02-entrecomillados.ipynb 03-tools.ipynb 04-shellchek.ipynb 05-entrecomillados-2.ipynb 06-variables.ipynb 07-cambiandoDeDirectorio.ipynb apt.txt postBuild README requirements.in requirements.txt sources test Headline 01-intro.ipynb 02-entrecomillados.ipynb 03-tools.ipynb 04-shellchek.ipynb 05-entrecomillados-2.ipynb 06-variables.ipynb 07-cambiandoDeDirectorio.ipynb apt.txt postBuild README requirements.in requirements.txt sources test\n"
     ]
    }
   ],
   "source": [
    "echo $headline"
   ]
  },
  {
   "cell_type": "markdown",
   "id": "50143286",
   "metadata": {},
   "source": [
    "¿Que paso? al no entrecomillar, los asteriscos fueron interpretados por bash, veamos un ejemplo"
   ]
  },
  {
   "cell_type": "code",
   "execution_count": 3,
   "id": "52ec9639",
   "metadata": {},
   "outputs": [
    {
     "name": "stdout",
     "output_type": "stream",
     "text": [
      "01-intro.ipynb 02-entrecomillados.ipynb 03-tools.ipynb 04-shellchek.ipynb 05-entrecomillados-2.ipynb 06-variables.ipynb 07-cambiandoDeDirectorio.ipynb apt.txt postBuild README requirements.in requirements.txt sources test\n"
     ]
    }
   ],
   "source": [
    "echo *\n"
   ]
  },
  {
   "cell_type": "markdown",
   "id": "907b08aa",
   "metadata": {},
   "source": [
    "y cual es la correcta?"
   ]
  },
  {
   "cell_type": "code",
   "execution_count": 4,
   "id": "6608771b",
   "metadata": {},
   "outputs": [
    {
     "name": "stdout",
     "output_type": "stream",
     "text": [
      "* Headline *\n"
     ]
    }
   ],
   "source": [
    "echo \"$headline\""
   ]
  }
 ],
 "metadata": {
  "kernelspec": {
   "display_name": "Bash",
   "language": "bash",
   "name": "bash"
  },
  "language_info": {
   "codemirror_mode": "shell",
   "file_extension": ".sh",
   "mimetype": "text/x-sh",
   "name": "bash"
  }
 },
 "nbformat": 4,
 "nbformat_minor": 5
}
