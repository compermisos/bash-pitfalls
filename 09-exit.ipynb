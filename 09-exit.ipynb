{
 "cells": [
  {
   "cell_type": "markdown",
   "id": "6719f405",
   "metadata": {},
   "source": [
    "# Exit FTW\n",
    "por defecto, los procesos que funcionan correctamente dan como estatus de salida, un 0, y los que no, cualquier valor diferente de 0. veamos un par de casos"
   ]
  },
  {
   "cell_type": "code",
   "execution_count": 3,
   "id": "c8e55143",
   "metadata": {},
   "outputs": [
    {
     "name": "stdout",
     "output_type": "stream",
     "text": [
      "mkdir: cannot create directory ‘test’: File exists\n",
      "sources/bash/godCD.sh: line 9: cd: test2: No such file or directory\n",
      "El proceso termino en: 1\n"
     ]
    }
   ],
   "source": [
    "bash sources/bash/godCD.sh\n",
    "echo \"El proceso termino en: $?\""
   ]
  },
  {
   "cell_type": "code",
   "execution_count": 4,
   "id": "befae19c",
   "metadata": {},
   "outputs": [
    {
     "name": "stdout",
     "output_type": "stream",
     "text": [
      "mkdir: cannot create directory ‘test’: File exists\n",
      "sources/bash/badCD.sh: line 10: cd: test2: No such file or directory\n",
      "El proceso termino en: 0\n"
     ]
    }
   ],
   "source": [
    "bash sources/bash/badCD.sh\n",
    "echo \"El proceso termino en: $?\""
   ]
  },
  {
   "cell_type": "markdown",
   "id": "fcd66643",
   "metadata": {},
   "source": [
    "con el comando exit (que por defecto regresa un 1) informamos al siguiente que esto fallo, ¿como podemos usarlo?"
   ]
  },
  {
   "cell_type": "code",
   "execution_count": 10,
   "id": "050f9e05",
   "metadata": {},
   "outputs": [
    {
     "name": "stdout",
     "output_type": "stream",
     "text": [
      "#!/bin/env bash\n",
      "\n",
      "bash \"$(dirname \"$0\")/godCD.sh\"\n",
      "#echo \"debug print $?\"\n",
      "if [ $? -eq 0 ] \n",
      "then\n",
      "  echo \"todo funciono correctamente\"\n",
      "else\n",
      "  echo \"algo fallo\"\n",
      "fi\n"
     ]
    }
   ],
   "source": [
    "cat sources/bash/exit.sh"
   ]
  },
  {
   "cell_type": "markdown",
   "id": "97805a99",
   "metadata": {},
   "source": [
    "en un if checamos la salida, y en base a ello ejecutamos"
   ]
  },
  {
   "cell_type": "code",
   "execution_count": 9,
   "id": "3b37f0cb",
   "metadata": {},
   "outputs": [
    {
     "name": "stdout",
     "output_type": "stream",
     "text": [
      "++ dirname sources/bash/exit.sh\n",
      "+ bash sources/bash/godCD.sh\n",
      "mkdir: cannot create directory ‘test’: File exists\n",
      "sources/bash/godCD.sh: line 9: cd: test2: No such file or directory\n",
      "+ '[' 1 -eq 0 ']'\n",
      "+ echo 'algo fallo'\n",
      "algo fallo\n"
     ]
    }
   ],
   "source": [
    "bash -x sources/bash/exit.sh"
   ]
  },
  {
   "cell_type": "markdown",
   "id": "e161120b",
   "metadata": {},
   "source": [
    "se comporto como creemos, entonces shellcheck no deberia de dar errores:"
   ]
  },
  {
   "cell_type": "code",
   "execution_count": 11,
   "id": "e2cb25e3",
   "metadata": {},
   "outputs": [
    {
     "name": "stdout",
     "output_type": "stream",
     "text": [
      "\n",
      "\u001b[1mIn sources/bash/exit.sh line 5:\u001b[0m\n",
      "\u001b[0mif [ $? -eq 0 ] \u001b[0m\n",
      "\u001b[32m     ^-- SC2181: Check exit code directly with e.g. 'if mycmd;', not indirectly with $?.\u001b[0m\n",
      "\n"
     ]
    },
    {
     "ename": "",
     "evalue": "1",
     "output_type": "error",
     "traceback": []
    }
   ],
   "source": [
    "shellcheck sources/bash/exit.sh"
   ]
  },
  {
   "cell_type": "markdown",
   "id": "21e41dd4",
   "metadata": {},
   "source": [
    "¿Pero que paso?"
   ]
  },
  {
   "cell_type": "code",
   "execution_count": null,
   "id": "b59a7686",
   "metadata": {},
   "outputs": [],
   "source": []
  },
  {
   "cell_type": "code",
   "execution_count": null,
   "id": "8d0d29c8",
   "metadata": {},
   "outputs": [],
   "source": []
  }
 ],
 "metadata": {
  "kernelspec": {
   "display_name": "Bash",
   "language": "bash",
   "name": "bash"
  },
  "language_info": {
   "codemirror_mode": "shell",
   "file_extension": ".sh",
   "mimetype": "text/x-sh",
   "name": "bash"
  }
 },
 "nbformat": 4,
 "nbformat_minor": 5
}
