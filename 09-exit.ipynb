{
 "cells": [
  {
   "cell_type": "markdown",
   "id": "2acc627d",
   "metadata": {},
   "source": [
    "# Exit FTW\n",
    "por defecto, los procesos que funcionan correctamente dan como estatus de salida, un 0, y los que no, cualquier valor diferente de 0. veamos un par de casos"
   ]
  },
  {
   "cell_type": "code",
   "execution_count": 3,
   "id": "2f8b5949",
   "metadata": {},
   "outputs": [
    {
     "name": "stdout",
     "output_type": "stream",
     "text": [
      "mkdir: cannot create directory ‘test’: File exists\n",
      "sources/bash/godCD.sh: line 9: cd: test2: No such file or directory\n",
      "El proceso termino en: 1\n"
     ]
    }
   ],
   "source": [
    "bash sources/bash/godCD.sh\n",
    "echo \"El proceso termino en: $?\""
   ]
  },
  {
   "cell_type": "code",
   "execution_count": 4,
   "id": "f8505af8",
   "metadata": {},
   "outputs": [
    {
     "name": "stdout",
     "output_type": "stream",
     "text": [
      "mkdir: cannot create directory ‘test’: File exists\n",
      "sources/bash/badCD.sh: line 10: cd: test2: No such file or directory\n",
      "El proceso termino en: 0\n"
     ]
    }
   ],
   "source": [
    "bash sources/bash/badCD.sh\n",
    "echo \"El proceso termino en: $?\""
   ]
  },
  {
   "cell_type": "markdown",
   "id": "0217c237",
   "metadata": {},
   "source": [
    "con el comando exit (que por defecto regresa un 1) informamos al siguiente que esto fallo, ¿como podemos usarlo?"
   ]
  },
  {
   "cell_type": "code",
   "execution_count": 10,
   "id": "89fa268b",
   "metadata": {},
   "outputs": [
    {
     "name": "stdout",
     "output_type": "stream",
     "text": [
      "#!/bin/env bash\n",
      "\n",
      "bash \"$(dirname \"$0\")/godCD.sh\"\n",
      "#echo \"debug print $?\"\n",
      "if [ $? -eq 0 ] \n",
      "then\n",
      "  echo \"todo funciono correctamente\"\n",
      "else\n",
      "  echo \"algo fallo\"\n",
      "fi\n"
     ]
    }
   ],
   "source": [
    "cat sources/bash/exit.sh"
   ]
  },
  {
   "cell_type": "markdown",
   "id": "56827e96",
   "metadata": {},
   "source": [
    "en un if checamos la salida, y en base a ello ejecutamos"
   ]
  },
  {
   "cell_type": "code",
   "execution_count": 9,
   "id": "0352a212",
   "metadata": {},
   "outputs": [
    {
     "name": "stdout",
     "output_type": "stream",
     "text": [
      "++ dirname sources/bash/exit.sh\n",
      "+ bash sources/bash/godCD.sh\n",
      "mkdir: cannot create directory ‘test’: File exists\n",
      "sources/bash/godCD.sh: line 9: cd: test2: No such file or directory\n",
      "+ '[' 1 -eq 0 ']'\n",
      "+ echo 'algo fallo'\n",
      "algo fallo\n"
     ]
    }
   ],
   "source": [
    "bash -x sources/bash/exit.sh"
   ]
  },
  {
   "cell_type": "markdown",
   "id": "8592cd7c",
   "metadata": {},
   "source": [
    "se comporto como creemos, entonces shellcheck no deberia de dar errores:"
   ]
  },
  {
   "cell_type": "code",
   "execution_count": 11,
   "id": "cf3e3881",
   "metadata": {},
   "outputs": [
    {
     "name": "stdout",
     "output_type": "stream",
     "text": [
      "\n",
      "\u001b[1mIn sources/bash/exit.sh line 5:\u001b[0m\n",
      "\u001b[0mif [ $? -eq 0 ] \u001b[0m\n",
      "\u001b[32m     ^-- SC2181: Check exit code directly with e.g. 'if mycmd;', not indirectly with $?.\u001b[0m\n",
      "\n"
     ]
    },
    {
     "ename": "",
     "evalue": "1",
     "output_type": "error",
     "traceback": []
    }
   ],
   "source": [
    "shellcheck sources/bash/exit.sh"
   ]
  },
  {
   "cell_type": "markdown",
   "id": "05dd1f30",
   "metadata": {},
   "source": [
    "¿Pero que paso?\n",
    "quitemos el comentario"
   ]
  },
  {
   "cell_type": "code",
   "execution_count": 13,
   "id": "630accad",
   "metadata": {},
   "outputs": [
    {
     "name": "stdout",
     "output_type": "stream",
     "text": [
      "#!/bin/env bash\n",
      "\n",
      "bash \"$(dirname \"$0\")/godCD.sh\"\n",
      "echo \"debug print $?\"\n",
      "if [ $? -eq 0 ] \n",
      "then\n",
      "  echo \"todo funciono correctamente\"\n",
      "else\n",
      "  echo \"algo fallo\"\n",
      "fi\n",
      "++ dirname sources/bash/exitFail.sh\n",
      "+ bash sources/bash/godCD.sh\n",
      "mkdir: cannot create directory ‘test’: File exists\n",
      "sources/bash/godCD.sh: line 9: cd: test2: No such file or directory\n",
      "+ echo 'debug print 1'\n",
      "debug print 1\n",
      "+ '[' 0 -eq 0 ']'\n",
      "+ echo 'todo funciono correctamente'\n",
      "todo funciono correctamente\n"
     ]
    }
   ],
   "source": [
    "cat sources/bash/exitFail.sh\n",
    "bash -x sources/bash/exitFail.sh"
   ]
  },
  {
   "cell_type": "markdown",
   "id": "e4f33113",
   "metadata": {},
   "source": [
    "Siempre existe la posibilidad de terminar metiendo codigo muerto dentro de lineas que funcionan, ¿una declaracion de una variable que usaras dentro del loop? ¿un echo de debug?, escoge tu fallo.\n",
    "veamos la solucion reocmendada"
   ]
  },
  {
   "cell_type": "code",
   "execution_count": 1,
   "id": "f511732d",
   "metadata": {},
   "outputs": [
    {
     "name": "stdout",
     "output_type": "stream",
     "text": [
      "#!/bin/env bash\n",
      "\n",
      "if bash \"$(dirname \"$0\")/godCD.sh\"  \n",
      "then\n",
      "  echo \"todo funciono correctamente\"\n",
      "else\n",
      "  echo \"algo fallo\"\n",
      "fi\n",
      "++ dirname sources/bash/exitFixed.sh\n",
      "+ bash sources/bash/godCD.sh\n",
      "mkdir: cannot create directory ‘test’: File exists\n",
      "sources/bash/godCD.sh: line 9: cd: test2: No such file or directory\n",
      "+ echo 'algo fallo'\n",
      "algo fallo\n"
     ]
    }
   ],
   "source": [
    "cat  sources/bash/exitFixed.sh\n",
    "bash -x sources/bash/exitFixed.sh\n",
    "shellcheck sources/bash/exitFixed.sh"
   ]
  },
  {
   "cell_type": "code",
   "execution_count": null,
   "id": "93cf835f",
   "metadata": {},
   "outputs": [],
   "source": []
  }
 ],
 "metadata": {
  "kernelspec": {
   "display_name": "Bash",
   "language": "bash",
   "name": "bash"
  },
  "language_info": {
   "codemirror_mode": "shell",
   "file_extension": ".sh",
   "mimetype": "text/x-sh",
   "name": "bash"
  }
 },
 "nbformat": 4,
 "nbformat_minor": 5
}
