{
 "cells": [
  {
   "cell_type": "markdown",
   "id": "a51ed426",
   "metadata": {},
   "source": [
    "# Exit FTW\n",
    "por defecto, los procesos que funcionan correctamente dan como estatus de salida, un 0, y los que no, cualquier valor diferente de 0. veamos un par de casos"
   ]
  },
  {
   "cell_type": "code",
   "execution_count": 3,
   "id": "fc3309c4",
   "metadata": {},
   "outputs": [
    {
     "name": "stdout",
     "output_type": "stream",
     "text": [
      "mkdir: cannot create directory ‘test’: File exists\n",
      "sources/bash/godCD.sh: line 9: cd: test2: No such file or directory\n",
      "El proceso termino en: 1\n"
     ]
    }
   ],
   "source": [
    "bash sources/bash/godCD.sh\n",
    "echo \"El proceso termino en: $?\""
   ]
  },
  {
   "cell_type": "code",
   "execution_count": 4,
   "id": "0976e4cb",
   "metadata": {},
   "outputs": [
    {
     "name": "stdout",
     "output_type": "stream",
     "text": [
      "mkdir: cannot create directory ‘test’: File exists\n",
      "sources/bash/badCD.sh: line 10: cd: test2: No such file or directory\n",
      "El proceso termino en: 0\n"
     ]
    }
   ],
   "source": [
    "bash sources/bash/badCD.sh\n",
    "echo \"El proceso termino en: $?\""
   ]
  },
  {
   "cell_type": "markdown",
   "id": "742427c4",
   "metadata": {},
   "source": [
    "con el comando exit (que por defecto regresa un 1) informamos al siguiente que esto fallo, ¿como podemos usarlo?"
   ]
  },
  {
   "cell_type": "code",
   "execution_count": 10,
   "id": "9943b35e",
   "metadata": {},
   "outputs": [
    {
     "name": "stdout",
     "output_type": "stream",
     "text": [
      "#!/bin/env bash\n",
      "\n",
      "bash \"$(dirname \"$0\")/godCD.sh\"\n",
      "#echo \"debug print $?\"\n",
      "if [ $? -eq 0 ] \n",
      "then\n",
      "  echo \"todo funciono correctamente\"\n",
      "else\n",
      "  echo \"algo fallo\"\n",
      "fi\n"
     ]
    }
   ],
   "source": [
    "cat sources/bash/exit.sh"
   ]
  },
  {
   "cell_type": "markdown",
   "id": "b75b82aa",
   "metadata": {},
   "source": [
    "en un if checamos la salida, y en base a ello ejecutamos"
   ]
  },
  {
   "cell_type": "code",
   "execution_count": 9,
   "id": "192396d1",
   "metadata": {},
   "outputs": [
    {
     "name": "stdout",
     "output_type": "stream",
     "text": [
      "++ dirname sources/bash/exit.sh\n",
      "+ bash sources/bash/godCD.sh\n",
      "mkdir: cannot create directory ‘test’: File exists\n",
      "sources/bash/godCD.sh: line 9: cd: test2: No such file or directory\n",
      "+ '[' 1 -eq 0 ']'\n",
      "+ echo 'algo fallo'\n",
      "algo fallo\n"
     ]
    }
   ],
   "source": [
    "bash -x sources/bash/exit.sh"
   ]
  },
  {
   "cell_type": "markdown",
   "id": "f519aa31",
   "metadata": {},
   "source": [
    "se comporto como creemos, entonces shellcheck no deberia de dar errores:"
   ]
  },
  {
   "cell_type": "code",
   "execution_count": 11,
   "id": "2628349a",
   "metadata": {},
   "outputs": [
    {
     "name": "stdout",
     "output_type": "stream",
     "text": [
      "\n",
      "\u001b[1mIn sources/bash/exit.sh line 5:\u001b[0m\n",
      "\u001b[0mif [ $? -eq 0 ] \u001b[0m\n",
      "\u001b[32m     ^-- SC2181: Check exit code directly with e.g. 'if mycmd;', not indirectly with $?.\u001b[0m\n",
      "\n"
     ]
    },
    {
     "ename": "",
     "evalue": "1",
     "output_type": "error",
     "traceback": []
    }
   ],
   "source": [
    "shellcheck sources/bash/exit.sh"
   ]
  },
  {
   "cell_type": "markdown",
   "id": "fc6c8d3f",
   "metadata": {},
   "source": [
    "¿Pero que paso?\n",
    "quitemos el comentario"
   ]
  },
  {
   "cell_type": "code",
   "execution_count": 13,
   "id": "00d54f9e",
   "metadata": {},
   "outputs": [
    {
     "name": "stdout",
     "output_type": "stream",
     "text": [
      "#!/bin/env bash\n",
      "\n",
      "bash \"$(dirname \"$0\")/godCD.sh\"\n",
      "echo \"debug print $?\"\n",
      "if [ $? -eq 0 ] \n",
      "then\n",
      "  echo \"todo funciono correctamente\"\n",
      "else\n",
      "  echo \"algo fallo\"\n",
      "fi\n",
      "++ dirname sources/bash/exitFail.sh\n",
      "+ bash sources/bash/godCD.sh\n",
      "mkdir: cannot create directory ‘test’: File exists\n",
      "sources/bash/godCD.sh: line 9: cd: test2: No such file or directory\n",
      "+ echo 'debug print 1'\n",
      "debug print 1\n",
      "+ '[' 0 -eq 0 ']'\n",
      "+ echo 'todo funciono correctamente'\n",
      "todo funciono correctamente\n"
     ]
    }
   ],
   "source": [
    "cat sources/bash/exitFail.sh\n",
    "bash -x sources/bash/exitFail.sh"
   ]
  },
  {
   "cell_type": "code",
   "execution_count": null,
   "id": "12784074",
   "metadata": {},
   "outputs": [],
   "source": []
  }
 ],
 "metadata": {
  "kernelspec": {
   "display_name": "Bash",
   "language": "bash",
   "name": "bash"
  },
  "language_info": {
   "codemirror_mode": "shell",
   "file_extension": ".sh",
   "mimetype": "text/x-sh",
   "name": "bash"
  }
 },
 "nbformat": 4,
 "nbformat_minor": 5
}
