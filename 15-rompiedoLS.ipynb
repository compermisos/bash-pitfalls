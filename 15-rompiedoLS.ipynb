{
 "cells": [
  {
   "cell_type": "markdown",
   "id": "ad2c6396",
   "metadata": {},
   "source": [
    "# Romper LS\n",
    "el comando ls nos permite ver el contenido de algun diretorio, pero como podemos romper nuestro script?\n"
   ]
  },
  {
   "cell_type": "code",
   "execution_count": 1,
   "id": "67e2711f",
   "metadata": {},
   "outputs": [],
   "source": [
    "ls test/"
   ]
  },
  {
   "cell_type": "code",
   "execution_count": 15,
   "id": "83841052",
   "metadata": {},
   "outputs": [
    {
     "name": "stdout",
     "output_type": "stream",
     "text": [
      "#!/bin/env bash\n",
      "mkdir -p test/\n",
      "rm test/*\n",
      "for i in $(seq 1 10); do \n",
      "  touch \"test/pruebaA$i\";\n",
      "  touch \"test/pruebaB$i\";\n",
      "done\n",
      "ls test/ \n",
      "echo \"####\"\n",
      "for i in $(ls test/|grep \"B\"); do \n",
      "  rm \"$i\";\n",
      "done\n",
      "echo \"####\"\n",
      "ls test/\n",
      "rm test/*\n",
      "for i in $(seq 1 10); do\n",
      "  touch \"test/pruebaA$i\";\n",
      "  touch \"test/prueba B $i\";\n",
      "done\n",
      "echo \"####\"\n",
      "ls test/\n",
      "echo \"####\"\n",
      "for i in $(ls test/|grep \"B\"); do \n",
      "  rm \"$i\";\n",
      "done\n",
      "pruebaA1   pruebaA3  pruebaA6  pruebaA9   pruebaB2  pruebaB5  pruebaB8\n",
      "pruebaA10  pruebaA4  pruebaA7  pruebaB1   pruebaB3  pruebaB6  pruebaB9\n",
      "pruebaA2   pruebaA5  pruebaA8  pruebaB10  pruebaB4  pruebaB7\n",
      "####\n",
      "rm: cannot remove 'pruebaB1': No such file or directory\n",
      "rm: cannot remove 'pruebaB10': No such file or directory\n",
      "rm: cannot remove 'pruebaB2': No such file or directory\n",
      "rm: cannot remove 'pruebaB3': No such file or directory\n",
      "rm: cannot remove 'pruebaB4': No such file or directory\n",
      "rm: cannot remove 'pruebaB5': No such file or directory\n",
      "rm: cannot remove 'pruebaB6': No such file or directory\n",
      "rm: cannot remove 'pruebaB7': No such file or directory\n",
      "rm: cannot remove 'pruebaB8': No such file or directory\n",
      "rm: cannot remove 'pruebaB9': No such file or directory\n",
      "####\n",
      "pruebaA1   pruebaA3  pruebaA6  pruebaA9   pruebaB2  pruebaB5  pruebaB8\n",
      "pruebaA10  pruebaA4  pruebaA7  pruebaB1   pruebaB3  pruebaB6  pruebaB9\n",
      "pruebaA2   pruebaA5  pruebaA8  pruebaB10  pruebaB4  pruebaB7\n",
      "####\n",
      " pruebaA1    pruebaA4   pruebaA8      'prueba B 2'  'prueba B 6'\n",
      " pruebaA10   pruebaA5   pruebaA9      'prueba B 3'  'prueba B 7'\n",
      " pruebaA2    pruebaA6  'prueba B 1'   'prueba B 4'  'prueba B 8'\n",
      " pruebaA3    pruebaA7  'prueba B 10'  'prueba B 5'  'prueba B 9'\n",
      "####\n",
      "rm: cannot remove 'prueba': No such file or directory\n",
      "rm: cannot remove 'B': No such file or directory\n",
      "rm: cannot remove '1': No such file or directory\n",
      "rm: cannot remove 'prueba': No such file or directory\n",
      "rm: cannot remove 'B': No such file or directory\n",
      "rm: cannot remove '10': No such file or directory\n",
      "rm: cannot remove 'prueba': No such file or directory\n",
      "rm: cannot remove 'B': No such file or directory\n",
      "rm: cannot remove '2': No such file or directory\n",
      "rm: cannot remove 'prueba': No such file or directory\n",
      "rm: cannot remove 'B': No such file or directory\n",
      "rm: cannot remove '3': No such file or directory\n",
      "rm: cannot remove 'prueba': No such file or directory\n",
      "rm: cannot remove 'B': No such file or directory\n",
      "rm: cannot remove '4': No such file or directory\n",
      "rm: cannot remove 'prueba': No such file or directory\n",
      "rm: cannot remove 'B': No such file or directory\n",
      "rm: cannot remove '5': No such file or directory\n",
      "rm: cannot remove 'prueba': No such file or directory\n",
      "rm: cannot remove 'B': No such file or directory\n",
      "rm: cannot remove '6': No such file or directory\n",
      "rm: cannot remove 'prueba': No such file or directory\n",
      "rm: cannot remove 'B': No such file or directory\n",
      "rm: cannot remove '7': No such file or directory\n",
      "rm: cannot remove 'prueba': No such file or directory\n",
      "rm: cannot remove 'B': No such file or directory\n",
      "rm: cannot remove '8': No such file or directory\n",
      "rm: cannot remove 'prueba': No such file or directory\n",
      "rm: cannot remove 'B': No such file or directory\n",
      "rm: cannot remove '9': No such file or directory\n"
     ]
    },
    {
     "ename": "",
     "evalue": "1",
     "output_type": "error",
     "traceback": []
    }
   ],
   "source": [
    "cat sources/bash/badLS1.sh\n",
    "bash sources/bash/badLS1.sh"
   ]
  },
  {
   "cell_type": "code",
   "execution_count": 17,
   "id": "cd085d30",
   "metadata": {},
   "outputs": [
    {
     "name": "stdout",
     "output_type": "stream",
     "text": [
      "\n",
      "\u001b[1mIn sources/bash/badLS1.sh line 10:\u001b[0m\n",
      "\u001b[0mfor i in $(ls test/|grep \"B\"); do \u001b[0m\n",
      "\u001b[33m           ^-- SC2010: Don't use ls | grep. Use a glob or a for loop with a condition to allow non-alphanumeric filenames.\u001b[0m\n",
      "\n",
      "\n",
      "\u001b[1mIn sources/bash/badLS1.sh line 23:\u001b[0m\n",
      "\u001b[0mfor i in $(ls test/|grep \"B\"); do \u001b[0m\n",
      "\u001b[33m           ^-- SC2010: Don't use ls | grep. Use a glob or a for loop with a condition to allow non-alphanumeric filenames.\u001b[0m\n",
      "\n"
     ]
    },
    {
     "ename": "",
     "evalue": "1",
     "output_type": "error",
     "traceback": []
    }
   ],
   "source": [
    "shellcheck sources/bash/badLS1.sh"
   ]
  },
  {
   "cell_type": "markdown",
   "id": "fd4a8765",
   "metadata": {},
   "source": [
    "probemos quitando grep\n"
   ]
  },
  {
   "cell_type": "code",
   "execution_count": 18,
   "id": "9930c956",
   "metadata": {},
   "outputs": [
    {
     "name": "stdout",
     "output_type": "stream",
     "text": [
      "#!/bin/env bash\n",
      "mkdir -p test/\n",
      "rm test/*\n",
      "for i in $(seq 1 10); do \n",
      "  touch \"test/pruebaA$i\";\n",
      "  touch \"test/pruebaB$i\";\n",
      "done\n",
      "ls test/ \n",
      "echo \"####\"\n",
      "for i in $(ls test/*B*); do \n",
      "  rm \"$i\";\n",
      "done\n",
      "echo \"####\"\n",
      "ls test/\n",
      "rm test/*\n",
      "for i in $(seq 1 10); do\n",
      "  touch \"test/pruebaA$i\";\n",
      "  touch \"test/prueba B $i\";\n",
      "done\n",
      "echo \"####\"\n",
      "ls test/\n",
      "echo \"####\"\n",
      "for i in $(ls test/*B*); do \n",
      "  rm \"$i\";\n",
      "done\n",
      "pruebaA1   pruebaA3  pruebaA6  pruebaA9   pruebaB2  pruebaB5  pruebaB8\n",
      "pruebaA10  pruebaA4  pruebaA7  pruebaB1   pruebaB3  pruebaB6  pruebaB9\n",
      "pruebaA2   pruebaA5  pruebaA8  pruebaB10  pruebaB4  pruebaB7\n",
      "####\n",
      "####\n",
      "pruebaA1   pruebaA2  pruebaA4  pruebaA6  pruebaA8\n",
      "pruebaA10  pruebaA3  pruebaA5  pruebaA7  pruebaA9\n",
      "####\n",
      " pruebaA1    pruebaA4   pruebaA8      'prueba B 2'  'prueba B 6'\n",
      " pruebaA10   pruebaA5   pruebaA9      'prueba B 3'  'prueba B 7'\n",
      " pruebaA2    pruebaA6  'prueba B 1'   'prueba B 4'  'prueba B 8'\n",
      " pruebaA3    pruebaA7  'prueba B 10'  'prueba B 5'  'prueba B 9'\n",
      "####\n",
      "rm: cannot remove 'test/prueba': No such file or directory\n",
      "rm: cannot remove 'B': No such file or directory\n",
      "rm: cannot remove '1': No such file or directory\n",
      "rm: cannot remove 'test/prueba': No such file or directory\n",
      "rm: cannot remove 'B': No such file or directory\n",
      "rm: cannot remove '10': No such file or directory\n",
      "rm: cannot remove 'test/prueba': No such file or directory\n",
      "rm: cannot remove 'B': No such file or directory\n",
      "rm: cannot remove '2': No such file or directory\n",
      "rm: cannot remove 'test/prueba': No such file or directory\n",
      "rm: cannot remove 'B': No such file or directory\n",
      "rm: cannot remove '3': No such file or directory\n",
      "rm: cannot remove 'test/prueba': No such file or directory\n",
      "rm: cannot remove 'B': No such file or directory\n",
      "rm: cannot remove '4': No such file or directory\n",
      "rm: cannot remove 'test/prueba': No such file or directory\n",
      "rm: cannot remove 'B': No such file or directory\n",
      "rm: cannot remove '5': No such file or directory\n",
      "rm: cannot remove 'test/prueba': No such file or directory\n",
      "rm: cannot remove 'B': No such file or directory\n",
      "rm: cannot remove '6': No such file or directory\n",
      "rm: cannot remove 'test/prueba': No such file or directory\n",
      "rm: cannot remove 'B': No such file or directory\n",
      "rm: cannot remove '7': No such file or directory\n",
      "rm: cannot remove 'test/prueba': No such file or directory\n",
      "rm: cannot remove 'B': No such file or directory\n",
      "rm: cannot remove '8': No such file or directory\n",
      "rm: cannot remove 'test/prueba': No such file or directory\n",
      "rm: cannot remove 'B': No such file or directory\n",
      "rm: cannot remove '9': No such file or directory\n"
     ]
    },
    {
     "ename": "",
     "evalue": "1",
     "output_type": "error",
     "traceback": []
    }
   ],
   "source": [
    "cat sources/bash/badLS2.sh\n",
    "bash sources/bash/badLS2.sh"
   ]
  },
  {
   "cell_type": "code",
   "execution_count": 20,
   "id": "a0ca5a42",
   "metadata": {},
   "outputs": [
    {
     "name": "stdout",
     "output_type": "stream",
     "text": [
      "\n",
      "\u001b[1mIn sources/bash/badLS2.sh line 10:\u001b[0m\n",
      "\u001b[0mfor i in $(ls test/*B*); do \u001b[0m\n",
      "\u001b[31m         ^-- SC2045: Iterating over ls output is fragile. Use globs.\u001b[0m\n",
      "\n",
      "\n",
      "\u001b[1mIn sources/bash/badLS2.sh line 23:\u001b[0m\n",
      "\u001b[0mfor i in $(ls test/*B*); do \u001b[0m\n",
      "\u001b[31m         ^-- SC2045: Iterating over ls output is fragile. Use globs.\u001b[0m\n",
      "\n"
     ]
    },
    {
     "ename": "",
     "evalue": "1",
     "output_type": "error",
     "traceback": []
    }
   ],
   "source": [
    "shellcheck sources/bash/badLS2.sh"
   ]
  },
  {
   "cell_type": "markdown",
   "id": "cf701819",
   "metadata": {},
   "source": [
    "usemos globs!!!"
   ]
  },
  {
   "cell_type": "code",
   "execution_count": 21,
   "id": "4305d6a9",
   "metadata": {},
   "outputs": [
    {
     "name": "stdout",
     "output_type": "stream",
     "text": [
      "#!/bin/env bash\n",
      "mkdir -p test/\n",
      "rm test/*\n",
      "for i in $(seq 1 10); do \n",
      "  touch \"test/pruebaA$i\";\n",
      "  touch \"test/pruebaB$i\";\n",
      "done\n",
      "ls test/ \n",
      "echo \"####\"\n",
      "rm -- test/*B*\n",
      "echo \"####\"\n",
      "ls test/\n",
      "rm test/*\n",
      "for i in $(seq 1 10); do\n",
      "  touch \"test/pruebaA$i\";\n",
      "  touch \"test/prueba B $i\";\n",
      "done\n",
      "echo \"####\"\n",
      "ls test/\n",
      "echo \"####\"\n",
      "rm -- test/*B*\n",
      "ls test/\n",
      "pruebaA1   pruebaA3  pruebaA6  pruebaA9   pruebaB2  pruebaB5  pruebaB8\n",
      "pruebaA10  pruebaA4  pruebaA7  pruebaB1   pruebaB3  pruebaB6  pruebaB9\n",
      "pruebaA2   pruebaA5  pruebaA8  pruebaB10  pruebaB4  pruebaB7\n",
      "####\n",
      "####\n",
      "pruebaA1   pruebaA2  pruebaA4  pruebaA6  pruebaA8\n",
      "pruebaA10  pruebaA3  pruebaA5  pruebaA7  pruebaA9\n",
      "####\n",
      " pruebaA1    pruebaA4   pruebaA8      'prueba B 2'  'prueba B 6'\n",
      " pruebaA10   pruebaA5   pruebaA9      'prueba B 3'  'prueba B 7'\n",
      " pruebaA2    pruebaA6  'prueba B 1'   'prueba B 4'  'prueba B 8'\n",
      " pruebaA3    pruebaA7  'prueba B 10'  'prueba B 5'  'prueba B 9'\n",
      "####\n",
      "pruebaA1   pruebaA2  pruebaA4  pruebaA6  pruebaA8\n",
      "pruebaA10  pruebaA3  pruebaA5  pruebaA7  pruebaA9\n"
     ]
    }
   ],
   "source": [
    "cat sources/bash/badLS3.sh\n",
    "bash sources/bash/badLS3.sh"
   ]
  },
  {
   "cell_type": "code",
   "execution_count": 23,
   "id": "7f223576",
   "metadata": {},
   "outputs": [],
   "source": [
    "shellcheck  sources/bash/badLS3.sh"
   ]
  },
  {
   "cell_type": "code",
   "execution_count": null,
   "id": "d6da3ea2",
   "metadata": {},
   "outputs": [],
   "source": []
  }
 ],
 "metadata": {
  "kernelspec": {
   "display_name": "Bash",
   "language": "bash",
   "name": "bash"
  },
  "language_info": {
   "codemirror_mode": "shell",
   "file_extension": ".sh",
   "mimetype": "text/x-sh",
   "name": "bash"
  }
 },
 "nbformat": 4,
 "nbformat_minor": 5
}
